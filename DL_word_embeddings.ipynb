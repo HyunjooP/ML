{
  "nbformat": 4,
  "nbformat_minor": 0,
  "metadata": {
    "colab": {
      "name": "DL_word_embeddings.ipynb",
      "provenance": [],
      "collapsed_sections": []
    },
    "kernelspec": {
      "name": "python3",
      "display_name": "Python 3"
    },
    "language_info": {
      "name": "python"
    }
  },
  "cells": [
    {
      "cell_type": "markdown",
      "metadata": {
        "id": "Oht9eev8EX0Q"
      },
      "source": [
        "# word embeddings\n",
        "- 단어 임베딩이라는 밀집 단어 벡터(word vector)를 사용\n",
        "- One-hot encoding으로 만들어 진 벡터는 sparse (대부분이 0으로 채워짐)하고 고차원\n",
        "- 보통 256 또는 512차원, 큰 어휘 사전을 다룰 때는 1024차원의 단어 임베딩을 사용 - vs one-hot encoding은 20000차원 또는 그 이상의 벡터일 경우가 많음 → 단어 임베딩이 적은 차원에 더 많은 정보를 저장"
      ]
    },
    {
      "cell_type": "code",
      "metadata": {
        "id": "dq9PqDJKOvz_"
      },
      "source": [
        "from keras.layers import Embedding\n",
        "embedding_layer = Embedding(1000,64)"
      ],
      "execution_count": 4,
      "outputs": []
    },
    {
      "cell_type": "code",
      "metadata": {
        "id": "jLj2S4PFEOlY"
      },
      "source": [
        "# 영화 리뷰에서 가장 빈도가 높은 1만개의 단어를 추출\n",
        "from keras.datasets import imdb\n",
        "from keras import preprocessing\n",
        "\n",
        "max_features = 10000\n",
        "maxlen = 20\n",
        "\n",
        "(x_train, y_train), (x_test, y_test) = imdb.load_data( num_words=max_features)\n",
        "x_train = preprocessing.sequence.pad_sequences(x_train, maxlen= maxlen)\n",
        "x_test = preprocessing.sequence.pad_sequences(x_test, maxlen=maxlen)"
      ],
      "execution_count": 5,
      "outputs": []
    },
    {
      "cell_type": "code",
      "metadata": {
        "id": "G2O-x7TZOJBD"
      },
      "source": [
        "# Embedding layer\n",
        "from keras.datasets import imdb\n",
        "from keras import preprocessing\n",
        "\n",
        "max_features = 10000\n",
        "maxlen = 20\n",
        "\n",
        "(x_train, y_train), (x_test, y_test) = imdb.load_data( num_words=max_features)\n",
        "x_train = preprocessing.sequence.pad_sequences(x_train, maxlen= maxlen)\n",
        "x_test = preprocessing.sequence.pad_sequences(x_test, maxlen=maxlen)"
      ],
      "execution_count": 6,
      "outputs": []
    },
    {
      "cell_type": "code",
      "metadata": {
        "colab": {
          "base_uri": "https://localhost:8080/"
        },
        "id": "yaJL1S-COQ64",
        "outputId": "952b4be4-ca0d-409e-c087-6622933cdd6a"
      },
      "source": [
        "# classifier on the IMDB data\n",
        "from keras.models import Sequential\n",
        "from keras.layers import Flatten, Dense\n",
        "\n",
        "model = Sequential()\n",
        "model.add(Embedding(10000, 8, input_length=maxlen))\n",
        "model.add(Flatten())\n",
        "model.add(Dense(1, activation='sigmoid'))\n",
        "model.compile(optimizer='rmsprop', loss='binary_crossentropy', metrics=['acc'])\n",
        "\n",
        "model.summary()\n",
        "\n",
        "history = model.fit(x_train, y_train, epochs=10, batch_size=32, validation_split=0.2)"
      ],
      "execution_count": 7,
      "outputs": [
        {
          "output_type": "stream",
          "name": "stdout",
          "text": [
            "Model: \"sequential_1\"\n",
            "_________________________________________________________________\n",
            "Layer (type)                 Output Shape              Param #   \n",
            "=================================================================\n",
            "embedding_1 (Embedding)      (None, 20, 8)             80000     \n",
            "_________________________________________________________________\n",
            "flatten (Flatten)            (None, 160)               0         \n",
            "_________________________________________________________________\n",
            "dense (Dense)                (None, 1)                 161       \n",
            "=================================================================\n",
            "Total params: 80,161\n",
            "Trainable params: 80,161\n",
            "Non-trainable params: 0\n",
            "_________________________________________________________________\n",
            "Epoch 1/10\n",
            "625/625 [==============================] - 2s 2ms/step - loss: 0.6655 - acc: 0.6319 - val_loss: 0.6127 - val_acc: 0.6928\n",
            "Epoch 2/10\n",
            "625/625 [==============================] - 1s 2ms/step - loss: 0.5358 - acc: 0.7544 - val_loss: 0.5231 - val_acc: 0.7290\n",
            "Epoch 3/10\n",
            "625/625 [==============================] - 1s 1ms/step - loss: 0.4596 - acc: 0.7872 - val_loss: 0.5002 - val_acc: 0.7440\n",
            "Epoch 4/10\n",
            "625/625 [==============================] - 1s 1ms/step - loss: 0.4218 - acc: 0.8105 - val_loss: 0.4956 - val_acc: 0.7528\n",
            "Epoch 5/10\n",
            "625/625 [==============================] - 1s 1ms/step - loss: 0.3956 - acc: 0.8227 - val_loss: 0.4961 - val_acc: 0.7510\n",
            "Epoch 6/10\n",
            "625/625 [==============================] - 1s 2ms/step - loss: 0.3739 - acc: 0.8348 - val_loss: 0.5024 - val_acc: 0.7522\n",
            "Epoch 7/10\n",
            "625/625 [==============================] - 1s 2ms/step - loss: 0.3545 - acc: 0.8461 - val_loss: 0.5068 - val_acc: 0.7528\n",
            "Epoch 8/10\n",
            "625/625 [==============================] - 1s 2ms/step - loss: 0.3358 - acc: 0.8558 - val_loss: 0.5145 - val_acc: 0.7544\n",
            "Epoch 9/10\n",
            "625/625 [==============================] - 1s 1ms/step - loss: 0.3184 - acc: 0.8670 - val_loss: 0.5223 - val_acc: 0.7504\n",
            "Epoch 10/10\n",
            "625/625 [==============================] - 1s 1ms/step - loss: 0.3013 - acc: 0.8768 - val_loss: 0.5310 - val_acc: 0.7470\n"
          ]
        }
      ]
    },
    {
      "cell_type": "code",
      "metadata": {
        "id": "M2kP1wUBOfSE"
      },
      "source": [
        ""
      ],
      "execution_count": null,
      "outputs": []
    }
  ]
}