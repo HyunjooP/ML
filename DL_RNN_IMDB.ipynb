{
  "nbformat": 4,
  "nbformat_minor": 0,
  "metadata": {
    "colab": {
      "name": "DL_RNN_IMDB.ipynb",
      "provenance": [],
      "collapsed_sections": []
    },
    "kernelspec": {
      "name": "python3",
      "display_name": "Python 3"
    },
    "language_info": {
      "name": "python"
    }
  },
  "cells": [
    {
      "cell_type": "markdown",
      "metadata": {
        "id": "-huGvYe1hAwK"
      },
      "source": [
        "# Recurrent Neural Networks (RNN)"
      ]
    },
    {
      "cell_type": "markdown",
      "metadata": {
        "id": "8DiFjCmvhDvh"
      },
      "source": [
        "## Preparing"
      ]
    },
    {
      "cell_type": "code",
      "metadata": {
        "colab": {
          "base_uri": "https://localhost:8080/"
        },
        "id": "mKPWF7e-ay7W",
        "outputId": "1f079d7e-fd19-40ba-b1cf-bed4ab973b71"
      },
      "source": [
        "from keras.datasets import imdb\n",
        "from keras.preprocessing import sequence\n",
        "\n",
        "max_features = 10000\n",
        "maxlen = 500\n",
        "batch_size = 32\n",
        "\n",
        "print('Loading data...')\n",
        "(input_train, y_train), (input_test, y_test) = imdb.load_data(num_words=max_features)\n",
        "print(len(input_train), 'train sequences')\n",
        "print(len(input_test), 'test sequences')\n",
        "print('Pad sequences (samples x time)')\n",
        "input_train = sequence.pad_sequences(input_train, maxlen=maxlen)\n",
        "input_test = sequence.pad_sequences(input_test, maxlen=maxlen)\n",
        "print('input_train shape:', input_train.shape)\n",
        "print('input_test shape:', input_test.shape)"
      ],
      "execution_count": 1,
      "outputs": [
        {
          "output_type": "stream",
          "name": "stdout",
          "text": [
            "Loading data...\n",
            "Downloading data from https://storage.googleapis.com/tensorflow/tf-keras-datasets/imdb.npz\n",
            "17465344/17464789 [==============================] - 0s 0us/step\n",
            "17473536/17464789 [==============================] - 0s 0us/step\n",
            "25000 train sequences\n",
            "25000 test sequences\n",
            "Pad sequences (samples x time)\n",
            "input_train shape: (25000, 500)\n",
            "input_test shape: (25000, 500)\n"
          ]
        }
      ]
    },
    {
      "cell_type": "markdown",
      "metadata": {
        "id": "sNTbPupNhGpm"
      },
      "source": [
        "## Training the model"
      ]
    },
    {
      "cell_type": "code",
      "metadata": {
        "colab": {
          "base_uri": "https://localhost:8080/"
        },
        "id": "Fi7o-J85g8_t",
        "outputId": "c4193677-1e0f-4a97-e34f-5c15d8110737"
      },
      "source": [
        "from keras.layers import Dense\n",
        "from keras.models import Sequential\n",
        "from keras.layers import Embedding\n",
        "from tensorflow.keras.layers import SimpleRNN, LSTM, Bidirectional\n",
        "\n",
        "\n",
        "model = Sequential()\n",
        "model.add(Embedding(max_features, 32))\n",
        "model.add(SimpleRNN(32))\n",
        "model.add(Dense(1, activation='sigmoid'))\n",
        "\n",
        "model.compile(optimizer='rmsprop', loss='binary_crossentropy', metrics=['acc'])\n",
        "history = model.fit(input_train, y_train, epochs=10, batch_size=128, validation_split=0.2)"
      ],
      "execution_count": 2,
      "outputs": [
        {
          "output_type": "stream",
          "name": "stdout",
          "text": [
            "Epoch 1/10\n",
            "157/157 [==============================] - 27s 162ms/step - loss: 0.6805 - acc: 0.5584 - val_loss: 0.6311 - val_acc: 0.6708\n",
            "Epoch 2/10\n",
            "157/157 [==============================] - 25s 160ms/step - loss: 0.4724 - acc: 0.7917 - val_loss: 0.4838 - val_acc: 0.7720\n",
            "Epoch 3/10\n",
            "157/157 [==============================] - 25s 162ms/step - loss: 0.2874 - acc: 0.8853 - val_loss: 0.3722 - val_acc: 0.8548\n",
            "Epoch 4/10\n",
            "157/157 [==============================] - 25s 159ms/step - loss: 0.1871 - acc: 0.9295 - val_loss: 0.5041 - val_acc: 0.7830\n",
            "Epoch 5/10\n",
            "157/157 [==============================] - 25s 159ms/step - loss: 0.1128 - acc: 0.9623 - val_loss: 0.5716 - val_acc: 0.7606\n",
            "Epoch 6/10\n",
            "157/157 [==============================] - 25s 160ms/step - loss: 0.0638 - acc: 0.9811 - val_loss: 0.6938 - val_acc: 0.7442\n",
            "Epoch 7/10\n",
            "157/157 [==============================] - 25s 159ms/step - loss: 0.0369 - acc: 0.9898 - val_loss: 0.5563 - val_acc: 0.8318\n",
            "Epoch 8/10\n",
            "157/157 [==============================] - 25s 162ms/step - loss: 0.0292 - acc: 0.9915 - val_loss: 0.6673 - val_acc: 0.8204\n",
            "Epoch 9/10\n",
            "157/157 [==============================] - 25s 161ms/step - loss: 0.0161 - acc: 0.9956 - val_loss: 0.6823 - val_acc: 0.8132\n",
            "Epoch 10/10\n",
            "157/157 [==============================] - 25s 160ms/step - loss: 0.0125 - acc: 0.9966 - val_loss: 0.7010 - val_acc: 0.8170\n"
          ]
        }
      ]
    },
    {
      "cell_type": "markdown",
      "metadata": {
        "id": "cS5UZUzuhNxq"
      },
      "source": [
        "## Plotting results"
      ]
    },
    {
      "cell_type": "code",
      "metadata": {
        "id": "dSsbm244hLg1",
        "colab": {
          "base_uri": "https://localhost:8080/",
          "height": 319
        },
        "outputId": "eb18e7be-30b1-4e2a-a423-55c40c85d02a"
      },
      "source": [
        "import matplotlib.pyplot as plt\n",
        "\n",
        "acc = history.history['acc']\n",
        "val_acc = history.history['val_acc']\n",
        "loss = history.history['loss']\n",
        "val_loss = history.history['val_loss']\n",
        "\n",
        "epochs = range(1, len(acc) + 1)\n",
        "\n",
        "plt.plot(epochs, acc, 'bo', label='Training acc')\n",
        "plt.plot(epochs, val_acc, 'b', label='Validation acc')\n",
        "plt.title('Training and validation accuracy')\n",
        "plt.legend()\n",
        "plt.figure()"
      ],
      "execution_count": 4,
      "outputs": [
        {
          "output_type": "execute_result",
          "data": {
            "text/plain": [
              "<Figure size 432x288 with 0 Axes>"
            ]
          },
          "metadata": {},
          "execution_count": 4
        },
        {
          "output_type": "display_data",
          "data": {
            "image/png": "[encoded data removed]",
            "text/plain": [
              "<Figure size 432x288 with 1 Axes>"
            ]
          },
          "metadata": {
            "needs_background": "light"
          }
        },
        {
          "output_type": "display_data",
          "data": {
            "text/plain": [
              "<Figure size 432x288 with 0 Axes>"
            ]
          },
          "metadata": {}
        }
      ]
    },
    {
      "cell_type": "code",
      "metadata": {
        "id": "BMPLugOr1pRq"
      },
      "source": [
        "# 약 85%정도의 검증 정확도 달성 → 기존 모델보다 성능이 높지 않음\n",
        "# 전체 시퀀스가 아니라 처음 500개의 단어만 입력에 사용했기 때문\n",
        "# 이 RNN은 기준 모델보다 얻은 정보가 적음\n",
        "# 다른 이유는 SimpleRNN이 텍스트처럼 긴 시퀀스를 사용하는데 적합하지 않음"
      ],
      "execution_count": 5,
      "outputs": []
    },
    {
      "cell_type": "markdown",
      "metadata": {
        "id": "zLoYjC9A9jqt"
      },
      "source": [
        "## A concrete LSTM example in Keras"
      ]
    },
    {
      "cell_type": "code",
      "metadata": {
        "colab": {
          "base_uri": "https://localhost:8080/"
        },
        "id": "nk7lwfWc3g46",
        "outputId": "de0ab44c-c53a-429e-85e8-8b6639a8e1b4"
      },
      "source": [
        "# Using the LSTM layer in Keras\n",
        "from keras.layers import LSTM\n",
        "from keras.preprocessing import sequence\n",
        "from keras.models import Sequential\n",
        "from keras.layers import Embedding\n",
        "from tensorflow.keras.layers import SimpleRNN, LSTM, Bidirectional\n",
        "\n",
        "model = Sequential()\n",
        "model.add(Embedding(max_features, 32)) \n",
        "model.add(LSTM(32))\n",
        "model.add(Dense(1, activation='sigmoid'))\n",
        "model.compile(optimizer='rmsprop', loss='binary_crossentropy', metrics=['acc'])\n",
        "history = model.fit(input_train, y_train, epochs=10, batch_size=128, validation_split=0.2)"
      ],
      "execution_count": 6,
      "outputs": [
        {
          "output_type": "stream",
          "name": "stdout",
          "text": [
            "Epoch 1/10\n",
            "157/157 [==============================] - 59s 361ms/step - loss: 0.4920 - acc: 0.7659 - val_loss: 0.3301 - val_acc: 0.8640\n",
            "Epoch 2/10\n",
            "157/157 [==============================] - 56s 359ms/step - loss: 0.2883 - acc: 0.8871 - val_loss: 0.4142 - val_acc: 0.8392\n",
            "Epoch 3/10\n",
            "157/157 [==============================] - 56s 360ms/step - loss: 0.2318 - acc: 0.9100 - val_loss: 0.3783 - val_acc: 0.8746\n",
            "Epoch 4/10\n",
            "157/157 [==============================] - 56s 359ms/step - loss: 0.1971 - acc: 0.9266 - val_loss: 0.3488 - val_acc: 0.8738\n",
            "Epoch 5/10\n",
            "157/157 [==============================] - 57s 361ms/step - loss: 0.1742 - acc: 0.9381 - val_loss: 0.3123 - val_acc: 0.8884\n",
            "Epoch 6/10\n",
            "157/157 [==============================] - 56s 360ms/step - loss: 0.1543 - acc: 0.9446 - val_loss: 0.2976 - val_acc: 0.8836\n",
            "Epoch 7/10\n",
            "157/157 [==============================] - 56s 360ms/step - loss: 0.1392 - acc: 0.9518 - val_loss: 0.3048 - val_acc: 0.8864\n",
            "Epoch 8/10\n",
            "157/157 [==============================] - 57s 362ms/step - loss: 0.1290 - acc: 0.9546 - val_loss: 0.3232 - val_acc: 0.8836\n",
            "Epoch 9/10\n",
            "157/157 [==============================] - 57s 361ms/step - loss: 0.1213 - acc: 0.9576 - val_loss: 0.5701 - val_acc: 0.8176\n",
            "Epoch 10/10\n",
            "157/157 [==============================] - 56s 359ms/step - loss: 0.1068 - acc: 0.9630 - val_loss: 0.3450 - val_acc: 0.8876\n"
          ]
        }
      ]
    },
    {
      "cell_type": "code",
      "metadata": {
        "id": "uGnbZLUZ9cUZ"
      },
      "source": [
        "# 약 88% 정도의 검증 정확도 달성 → LSTM이 그래디언트 소실 문제로부터 덜 영향을 받기 때문"
      ],
      "execution_count": null,
      "outputs": []
    }
  ]
}