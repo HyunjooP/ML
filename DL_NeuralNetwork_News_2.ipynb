{
  "nbformat": 4,
  "nbformat_minor": 0,
  "metadata": {
    "colab": {
      "name": "DL_NeuralNetwork_News_2.ipynb",
      "provenance": [],
      "collapsed_sections": []
    },
    "kernelspec": {
      "name": "python3",
      "display_name": "Python 3"
    },
    "language_info": {
      "name": "python"
    }
  },
  "cells": [
    {
      "cell_type": "code",
      "metadata": {
        "colab": {
          "base_uri": "https://localhost:8080/"
        },
        "id": "lUEoZS2mhwSL",
        "outputId": "fe394c21-6852-45d9-f500-042768855617"
      },
      "source": [
        "from keras.datasets import reuters\n",
        "(train_data, train_labels), (test_data, test_labels) = reuters.load_data(num_words=10000)"
      ],
      "execution_count": 1,
      "outputs": [
        {
          "output_type": "stream",
          "name": "stdout",
          "text": [
            "Downloading data from https://storage.googleapis.com/tensorflow/tf-keras-datasets/reuters.npz\n",
            "2113536/2110848 [==============================] - 0s 0us/step\n",
            "2121728/2110848 [==============================] - 0s 0us/step\n"
          ]
        }
      ]
    },
    {
      "cell_type": "code",
      "metadata": {
        "id": "romblA_uhwyB"
      },
      "source": [
        "# 데이터를 벡터로 변환\n",
        "import numpy as np\n",
        "\n",
        "def vectorize_sequences(seqs, dim=10000):\n",
        "  results = np.zeros((len(seqs), dim))\n",
        "  for i, seq in enumerate(seqs):\n",
        "    results[i, seq] = 1.  # 특정 인덱스의 위치를 1.으로 만듦\n",
        "  return results\n",
        "\n",
        "x_train = vectorize_sequences(train_data)\n",
        "x_test = vectorize_sequences(test_data)"
      ],
      "execution_count": 2,
      "outputs": []
    },
    {
      "cell_type": "code",
      "metadata": {
        "id": "DSwYJnSMhx2g"
      },
      "source": [
        "# 레이블을 벡터로 변환 - One Hot Encoding\n",
        "def to_one_hot(labels, dim=46):\n",
        "  results = np.zeros((len(labels), dim))\n",
        "  for i, l in enumerate(labels):\n",
        "    results[i,l] = 1.\n",
        "  return results\n",
        "\n",
        "one_hot_train_labels = to_one_hot(train_labels)\n",
        "one_hot_test_labels = to_one_hot(test_labels)"
      ],
      "execution_count": 3,
      "outputs": []
    },
    {
      "cell_type": "code",
      "metadata": {
        "id": "NVooQoDrhy2C"
      },
      "source": [
        "from keras.utils.np_utils import to_categorical\n",
        "\n",
        "one_hot_train_labels = to_categorical(train_labels)\n",
        "one_hot_test_labels = to_categorical(test_labels)"
      ],
      "execution_count": 4,
      "outputs": []
    },
    {
      "cell_type": "code",
      "metadata": {
        "id": "F8oX7uDchz6X"
      },
      "source": [
        "from keras import models\n",
        "from keras import layers\n",
        "\n",
        "model = models.Sequential()\n",
        "model.add(layers.Dense(128, activation='relu', input_shape=(10000,)))\n",
        "model.add(layers.Dense(128, activation='relu'))\n",
        "model.add(layers.Dense(128, activation='relu'))\n",
        "\n",
        "model.add(layers.Dense(46, activation='softmax'))\n",
        "# 출력 46"
      ],
      "execution_count": 16,
      "outputs": []
    },
    {
      "cell_type": "code",
      "metadata": {
        "id": "1mwW_MOzh97u"
      },
      "source": [
        "model.compile(optimizer='rmsprop', loss='categorical_crossentropy',\n",
        "                metrics=['accuracy'])"
      ],
      "execution_count": 17,
      "outputs": []
    },
    {
      "cell_type": "code",
      "metadata": {
        "id": "sV1EQ2dDh_P9"
      },
      "source": [
        "# 훈련 검증\n",
        "x_val = x_train[:1000]\n",
        "partial_x_train = x_train[1000:]\n",
        "y_val = one_hot_train_labels[:1000]\n",
        "partial_y_train = one_hot_train_labels[1000:]"
      ],
      "execution_count": 18,
      "outputs": []
    },
    {
      "cell_type": "code",
      "metadata": {
        "colab": {
          "base_uri": "https://localhost:8080/"
        },
        "id": "ONv23dxAiAgu",
        "outputId": "05403bfc-4d53-4331-dec6-8c1b16e747ac"
      },
      "source": [
        "# 20번의 에포크 동안 훈련시킴\n",
        "history = model.fit(partial_x_train, partial_y_train, epochs=20, \n",
        "                    batch_size=512, validation_data=(x_val, y_val))"
      ],
      "execution_count": 19,
      "outputs": [
        {
          "output_type": "stream",
          "name": "stdout",
          "text": [
            "Epoch 1/20\n",
            "16/16 [==============================] - 2s 80ms/step - loss: 2.3091 - accuracy: 0.5259 - val_loss: 1.4605 - val_accuracy: 0.6580\n",
            "Epoch 2/20\n",
            "16/16 [==============================] - 1s 80ms/step - loss: 1.2120 - accuracy: 0.7175 - val_loss: 1.1435 - val_accuracy: 0.7500\n",
            "Epoch 3/20\n",
            "16/16 [==============================] - 1s 76ms/step - loss: 0.8461 - accuracy: 0.8143 - val_loss: 1.0405 - val_accuracy: 0.7740\n",
            "Epoch 4/20\n",
            "16/16 [==============================] - 1s 74ms/step - loss: 0.6335 - accuracy: 0.8599 - val_loss: 0.9288 - val_accuracy: 0.8120\n",
            "Epoch 5/20\n",
            "16/16 [==============================] - 1s 79ms/step - loss: 0.4547 - accuracy: 0.9035 - val_loss: 0.9915 - val_accuracy: 0.7870\n",
            "Epoch 6/20\n",
            "16/16 [==============================] - 1s 73ms/step - loss: 0.3357 - accuracy: 0.9270 - val_loss: 1.3410 - val_accuracy: 0.7270\n",
            "Epoch 7/20\n",
            "16/16 [==============================] - 1s 79ms/step - loss: 0.2747 - accuracy: 0.9382 - val_loss: 0.9299 - val_accuracy: 0.8190\n",
            "Epoch 8/20\n",
            "16/16 [==============================] - 1s 75ms/step - loss: 0.2366 - accuracy: 0.9429 - val_loss: 0.9193 - val_accuracy: 0.8150\n",
            "Epoch 9/20\n",
            "16/16 [==============================] - 1s 71ms/step - loss: 0.1800 - accuracy: 0.9535 - val_loss: 0.9804 - val_accuracy: 0.8120\n",
            "Epoch 10/20\n",
            "16/16 [==============================] - 1s 69ms/step - loss: 0.1709 - accuracy: 0.9544 - val_loss: 1.0531 - val_accuracy: 0.8110\n",
            "Epoch 11/20\n",
            "16/16 [==============================] - 1s 69ms/step - loss: 0.1545 - accuracy: 0.9533 - val_loss: 1.0359 - val_accuracy: 0.8070\n",
            "Epoch 12/20\n",
            "16/16 [==============================] - 1s 70ms/step - loss: 0.1432 - accuracy: 0.9570 - val_loss: 1.1269 - val_accuracy: 0.7840\n",
            "Epoch 13/20\n",
            "16/16 [==============================] - 1s 77ms/step - loss: 0.1367 - accuracy: 0.9569 - val_loss: 1.0086 - val_accuracy: 0.8060\n",
            "Epoch 14/20\n",
            "16/16 [==============================] - 1s 70ms/step - loss: 0.1273 - accuracy: 0.9563 - val_loss: 1.0636 - val_accuracy: 0.8090\n",
            "Epoch 15/20\n",
            "16/16 [==============================] - 1s 71ms/step - loss: 0.1201 - accuracy: 0.9572 - val_loss: 1.2177 - val_accuracy: 0.7900\n",
            "Epoch 16/20\n",
            "16/16 [==============================] - 1s 70ms/step - loss: 0.1220 - accuracy: 0.9570 - val_loss: 1.1366 - val_accuracy: 0.7900\n",
            "Epoch 17/20\n",
            "16/16 [==============================] - 1s 69ms/step - loss: 0.1101 - accuracy: 0.9578 - val_loss: 1.2089 - val_accuracy: 0.7900\n",
            "Epoch 18/20\n",
            "16/16 [==============================] - 1s 74ms/step - loss: 0.1084 - accuracy: 0.9568 - val_loss: 1.1593 - val_accuracy: 0.7810\n",
            "Epoch 19/20\n",
            "16/16 [==============================] - 1s 81ms/step - loss: 0.1038 - accuracy: 0.9565 - val_loss: 1.1631 - val_accuracy: 0.7960\n",
            "Epoch 20/20\n",
            "16/16 [==============================] - 1s 72ms/step - loss: 0.1029 - accuracy: 0.9577 - val_loss: 1.1616 - val_accuracy: 0.7960\n"
          ]
        }
      ]
    },
    {
      "cell_type": "code",
      "metadata": {
        "colab": {
          "base_uri": "https://localhost:8080/",
          "height": 730
        },
        "id": "eShr-4J4iB_L",
        "outputId": "f2fa0c15-620b-43f3-e60a-b3859183e151"
      },
      "source": [
        "import matplotlib.pyplot as plt\n",
        "\n",
        "history_dict = history.history\n",
        "loss = history_dict['loss']\n",
        "val_loss = history_dict['val_loss']\n",
        "\n",
        "epochs = range(1, len(loss)+1)\n",
        "\n",
        "plt.figure(figsize=(16,12))\n",
        "plt.plot(epochs, loss, 'bo', label='Training loss')\n",
        "plt.plot(epochs, val_loss, 'b', label='Validation loss')\n",
        "plt.title('Tranining and validation loss')\n",
        "plt.xlabel('Epochs')\n",
        "plt.ylabel('loss')\n",
        "plt.legend()\n",
        "plt.show()"
      ],
      "execution_count": 20,
      "outputs": [
        {
          "output_type": "display_data",
          "data": {
            "image/png": "[encoded data removed]",
            "text/plain": [
              "<Figure size 1152x864 with 1 Axes>"
            ]
          },
          "metadata": {
            "needs_background": "light"
          }
        }
      ]
    },
    {
      "cell_type": "code",
      "metadata": {
        "colab": {
          "base_uri": "https://localhost:8080/",
          "height": 749
        },
        "id": "vudfFFJMiD96",
        "outputId": "cbdaf383-ea1e-4013-e1a3-3f4913f1886b"
      },
      "source": [
        "plt.clf()\n",
        "acc = history_dict['accuracy']\n",
        "val_acc = history_dict['val_accuracy']\n",
        "\n",
        "plt.figure(figsize=(16,12))\n",
        "plt.plot(epochs, acc, 'bo', label='Training acc')\n",
        "plt.plot(epochs, val_acc, 'b', label='Validation acc')\n",
        "plt.title('Tranining and validation accuracy')\n",
        "plt.xlabel('Epochs')\n",
        "plt.ylabel('Accuracy')\n",
        "plt.legend()\n",
        "plt.show()"
      ],
      "execution_count": 21,
      "outputs": [
        {
          "output_type": "display_data",
          "data": {
            "text/plain": [
              "<Figure size 432x288 with 0 Axes>"
            ]
          },
          "metadata": {}
        },
        {
          "output_type": "display_data",
          "data": {
            "image/png": "[encoded data removed]",
            "text/plain": [
              "<Figure size 1152x864 with 1 Axes>"
            ]
          },
          "metadata": {
            "needs_background": "light"
          }
        }
      ]
    },
    {
      "cell_type": "code",
      "metadata": {
        "colab": {
          "base_uri": "https://localhost:8080/"
        },
        "id": "JWidqaSciFIC",
        "outputId": "610a71a0-dc38-42dd-dbc8-19649680cdb8"
      },
      "source": [
        "# 9번째 에포크에서 과대적합 -> 9번의 에포크로 새로운 훈련\n",
        "model = models.Sequential()\n",
        "model.add(layers.Dense(64, activation='relu', input_shape=(10000,)))\n",
        "model.add(layers.Dense(64, activation='relu'))\n",
        "model.add(layers.Dense(46, activation='softmax'))\n",
        "\n",
        "\n",
        "model.compile(optimizer='rmsprop', loss='categorical_crossentropy', \n",
        "              metrics=['accuracy'])\n",
        "model.fit(partial_x_train, partial_y_train, epochs=9, batch_size=512)\n",
        "results = model.evaluate(x_test, one_hot_test_labels)\n",
        "print(results)"
      ],
      "execution_count": 22,
      "outputs": [
        {
          "output_type": "stream",
          "name": "stdout",
          "text": [
            "Epoch 1/9\n",
            "16/16 [==============================] - 1s 44ms/step - loss: 2.5027 - accuracy: 0.4613\n",
            "Epoch 2/9\n",
            "16/16 [==============================] - 1s 50ms/step - loss: 1.4200 - accuracy: 0.6964\n",
            "Epoch 3/9\n",
            "16/16 [==============================] - 1s 49ms/step - loss: 1.0723 - accuracy: 0.7707\n",
            "Epoch 4/9\n",
            "16/16 [==============================] - 1s 42ms/step - loss: 0.8453 - accuracy: 0.8196\n",
            "Epoch 5/9\n",
            "16/16 [==============================] - 1s 44ms/step - loss: 0.6719 - accuracy: 0.8588\n",
            "Epoch 6/9\n",
            "16/16 [==============================] - 1s 48ms/step - loss: 0.5395 - accuracy: 0.8884\n",
            "Epoch 7/9\n",
            "16/16 [==============================] - 1s 50ms/step - loss: 0.4369 - accuracy: 0.9112\n",
            "Epoch 8/9\n",
            "16/16 [==============================] - 1s 42ms/step - loss: 0.3529 - accuracy: 0.9252\n",
            "Epoch 9/9\n",
            "16/16 [==============================] - 1s 39ms/step - loss: 0.2913 - accuracy: 0.9351\n",
            "71/71 [==============================] - 0s 2ms/step - loss: 0.9751 - accuracy: 0.7885\n",
            "[0.9750642776489258, 0.7885128855705261]\n"
          ]
        }
      ]
    },
    {
      "cell_type": "code",
      "metadata": {
        "id": "-SPXGlGIiaQJ"
      },
      "source": [
        "predictions = model.predict(x_test)"
      ],
      "execution_count": 23,
      "outputs": []
    },
    {
      "cell_type": "code",
      "metadata": {
        "colab": {
          "base_uri": "https://localhost:8080/"
        },
        "id": "of_H-QUKicXo",
        "outputId": "594ab6d1-db62-4342-dc4c-f788e59886d1"
      },
      "source": [
        "predictions[0].shape"
      ],
      "execution_count": 24,
      "outputs": [
        {
          "output_type": "execute_result",
          "data": {
            "text/plain": [
              "(46,)"
            ]
          },
          "metadata": {},
          "execution_count": 24
        }
      ]
    },
    {
      "cell_type": "code",
      "metadata": {
        "colab": {
          "base_uri": "https://localhost:8080/"
        },
        "id": "zXVfoIc6id-s",
        "outputId": "fb42a550-7acc-4328-9bcc-110ee84521a3"
      },
      "source": [
        "np.sum(predictions[0])"
      ],
      "execution_count": 25,
      "outputs": [
        {
          "output_type": "execute_result",
          "data": {
            "text/plain": [
              "0.99999994"
            ]
          },
          "metadata": {},
          "execution_count": 25
        }
      ]
    },
    {
      "cell_type": "code",
      "metadata": {
        "colab": {
          "base_uri": "https://localhost:8080/"
        },
        "id": "XdrJOaUDiex9",
        "outputId": "4e472e5d-99de-4baa-ad67-b29c6dd97f3e"
      },
      "source": [
        "np.argmax(predictions[0])"
      ],
      "execution_count": 26,
      "outputs": [
        {
          "output_type": "execute_result",
          "data": {
            "text/plain": [
              "3"
            ]
          },
          "metadata": {},
          "execution_count": 26
        }
      ]
    },
    {
      "cell_type": "code",
      "metadata": {
        "id": "AcJTbmDrifpR"
      },
      "source": [
        ""
      ],
      "execution_count": null,
      "outputs": []
    }
  ]
}