{
  "nbformat": 4,
  "nbformat_minor": 0,
  "metadata": {
    "colab": {
      "name": "DL_NeuralNetwork_imdb_2.ipynb",
      "provenance": [],
      "collapsed_sections": []
    },
    "kernelspec": {
      "name": "python3",
      "display_name": "Python 3"
    },
    "language_info": {
      "name": "python"
    }
  },
  "cells": [
    {
      "cell_type": "code",
      "metadata": {
        "colab": {
          "base_uri": "https://localhost:8080/"
        },
        "id": "Qe8SOJf-01n5",
        "outputId": "57bab59d-82a7-4fe8-cf3b-4af524c0c932"
      },
      "source": [
        "from keras import optimizers\n",
        "from keras.datasets import imdb\n",
        "(train_data, train_labels), (test_data, test_labels) = imdb.load_data(num_words=10000)"
      ],
      "execution_count": 1,
      "outputs": [
        {
          "output_type": "stream",
          "name": "stdout",
          "text": [
            "Downloading data from https://storage.googleapis.com/tensorflow/tf-keras-datasets/imdb.npz\n",
            "17465344/17464789 [==============================] - 0s 0us/step\n",
            "17473536/17464789 [==============================] - 0s 0us/step\n"
          ]
        }
      ]
    },
    {
      "cell_type": "code",
      "metadata": {
        "colab": {
          "base_uri": "https://localhost:8080/"
        },
        "id": "JiN31x9Y02Uy",
        "outputId": "4f4908c4-4b65-455c-93ed-5d0ddfff3bc5"
      },
      "source": [
        "word_index = imdb.get_word_index()\n",
        "reverse_word_index = dict([(value, key) for (key, value) in word_index.items()])\n",
        "decoded_review = ' '.join([reverse_word_index.get(i-3, '?') for i in train_data[0]])\n",
        "print (decoded_review)"
      ],
      "execution_count": 2,
      "outputs": [
        {
          "output_type": "stream",
          "name": "stdout",
          "text": [
            "Downloading data from https://storage.googleapis.com/tensorflow/tf-keras-datasets/imdb_word_index.json\n",
            "1646592/1641221 [==============================] - 0s 0us/step\n",
            "1654784/1641221 [==============================] - 0s 0us/step\n",
            "? this film was just brilliant casting location scenery story direction everyone's really suited the part they played and you could just imagine being there robert ? is an amazing actor and now the same being director ? father came from the same scottish island as myself so i loved the fact there was a real connection with this film the witty remarks throughout the film were great it was just brilliant so much that i bought the film as soon as it was released for ? and would recommend it to everyone to watch and the fly fishing was amazing really cried at the end it was so sad and you know what they say if you cry at a film it must have been good and this definitely was also ? to the two little boy's that played the ? of norman and paul they were just brilliant children are often left out of the ? list i think because the stars that play them all grown up are such a big profile for the whole film but these children are amazing and should be praised for what they have done don't you think the whole story was so lovely because it was true and was someone's life after all that was shared with us all\n"
          ]
        }
      ]
    },
    {
      "cell_type": "code",
      "metadata": {
        "id": "no-fuZS0048W"
      },
      "source": [
        "# 정수 시퀀스를 이진 행렬로 인코딩\n",
        "import numpy as np\n",
        "\n",
        "def vectorize_sequences(seqs, dim=10000):\n",
        "  results = np.zeros((len(seqs), dim))\n",
        "  for i, seq in enumerate(seqs):\n",
        "    results[i, seq] = 1\n",
        "  return results\n",
        "\n",
        "x_train = vectorize_sequences(train_data)\n",
        "x_test = vectorize_sequences(test_data)"
      ],
      "execution_count": 3,
      "outputs": []
    },
    {
      "cell_type": "code",
      "metadata": {
        "id": "kYtfVaZp09iZ"
      },
      "source": [
        "y_train = np.asarray(train_labels).astype('float32')\n",
        "y_test = np.asarray(test_labels).astype('float32')"
      ],
      "execution_count": 4,
      "outputs": []
    },
    {
      "cell_type": "code",
      "metadata": {
        "id": "84BOtsU60_Br"
      },
      "source": [
        "from keras import models\n",
        "from keras import layers\n",
        "\n",
        "model = models.Sequential()\n",
        "model.add(layers.Dense(32, activation='tanh', input_shape=(10000,)))\n",
        "model.add(layers.Dense(32, activation='tanh'))\n",
        "# 32은 은닉 유닛의 개수\n",
        "model.add(layers.Dense(1, activation='sigmoid'))\n"
      ],
      "execution_count": 5,
      "outputs": []
    },
    {
      "cell_type": "code",
      "metadata": {
        "id": "EhB2o13V1Q7f"
      },
      "source": [
        "model.compile(optimizer='rmsprop', \n",
        "              loss='mse', metrics=['accuracy'])"
      ],
      "execution_count": 6,
      "outputs": []
    },
    {
      "cell_type": "code",
      "metadata": {
        "colab": {
          "base_uri": "https://localhost:8080/"
        },
        "id": "k5ROzjJM1VQt",
        "outputId": "c0348cc7-3e34-48ff-b880-6faee0dc8699"
      },
      "source": [
        "from tensorflow.keras import optimizers\n",
        "\n",
        "model.compile(optimizer=optimizers.RMSprop(lr=0.001), \n",
        "              loss='mse', metrics=['accuracy'])"
      ],
      "execution_count": 7,
      "outputs": [
        {
          "output_type": "stream",
          "name": "stderr",
          "text": [
            "/usr/local/lib/python3.7/dist-packages/keras/optimizer_v2/optimizer_v2.py:356: UserWarning: The `lr` argument is deprecated, use `learning_rate` instead.\n",
            "  \"The `lr` argument is deprecated, use `learning_rate` instead.\")\n"
          ]
        }
      ]
    },
    {
      "cell_type": "code",
      "metadata": {
        "colab": {
          "base_uri": "https://localhost:8080/"
        },
        "id": "AlM38XBX1ak6",
        "outputId": "699d9568-3937-4a09-8e84-5f5315a45756"
      },
      "source": [
        "from keras import losses\n",
        "from keras import metrics\n",
        "\n",
        "model.compile(optimizer=optimizers.RMSprop(lr=0.001), \n",
        "              loss=losses.mse, metrics=[metrics.mse])\n"
      ],
      "execution_count": 8,
      "outputs": [
        {
          "output_type": "stream",
          "name": "stderr",
          "text": [
            "/usr/local/lib/python3.7/dist-packages/keras/optimizer_v2/optimizer_v2.py:356: UserWarning: The `lr` argument is deprecated, use `learning_rate` instead.\n",
            "  \"The `lr` argument is deprecated, use `learning_rate` instead.\")\n"
          ]
        }
      ]
    },
    {
      "cell_type": "code",
      "metadata": {
        "id": "VU7in_AZ1ihv"
      },
      "source": [
        "# 훈련 검증\n",
        "x_val = x_train[:10000]\n",
        "partial_x_train = x_train[10000:]\n",
        "y_val = y_train[:10000]\n",
        "partial_y_train = y_train[10000:]"
      ],
      "execution_count": 9,
      "outputs": []
    },
    {
      "cell_type": "code",
      "metadata": {
        "colab": {
          "base_uri": "https://localhost:8080/"
        },
        "id": "Q2PB93VE1kQg",
        "outputId": "2bf4544e-8d06-41de-ae95-599e1451df75"
      },
      "source": [
        "# 모델을 512개의 샘플씩 미니 배치를 만들어 20번의 에포크 동안 훈련시킴\n",
        "model.compile(optimizer='rmsprop', loss='mse', metrics=['acc'])\n",
        "history = model.fit(partial_x_train, partial_y_train, epochs=50, batch_size=512, validation_data=(x_val, y_val))"
      ],
      "execution_count": 10,
      "outputs": [
        {
          "output_type": "stream",
          "name": "stdout",
          "text": [
            "Epoch 1/50\n",
            "30/30 [==============================] - 3s 64ms/step - loss: 0.1522 - acc: 0.7941 - val_loss: 0.1198 - val_acc: 0.8390\n",
            "Epoch 2/50\n",
            "30/30 [==============================] - 1s 49ms/step - loss: 0.0704 - acc: 0.9145 - val_loss: 0.0993 - val_acc: 0.8647\n",
            "Epoch 3/50\n",
            "30/30 [==============================] - 1s 50ms/step - loss: 0.0501 - acc: 0.9367 - val_loss: 0.0850 - val_acc: 0.8849\n",
            "Epoch 4/50\n",
            "30/30 [==============================] - 1s 48ms/step - loss: 0.0369 - acc: 0.9538 - val_loss: 0.0912 - val_acc: 0.8791\n",
            "Epoch 5/50\n",
            "30/30 [==============================] - 1s 49ms/step - loss: 0.0293 - acc: 0.9645 - val_loss: 0.0937 - val_acc: 0.8798\n",
            "Epoch 6/50\n",
            "30/30 [==============================] - 1s 48ms/step - loss: 0.0224 - acc: 0.9737 - val_loss: 0.0978 - val_acc: 0.8782\n",
            "Epoch 7/50\n",
            "30/30 [==============================] - 1s 48ms/step - loss: 0.0196 - acc: 0.9781 - val_loss: 0.1023 - val_acc: 0.8753\n",
            "Epoch 8/50\n",
            "30/30 [==============================] - 1s 48ms/step - loss: 0.0157 - acc: 0.9829 - val_loss: 0.1043 - val_acc: 0.8744\n",
            "Epoch 9/50\n",
            "30/30 [==============================] - 1s 47ms/step - loss: 0.0147 - acc: 0.9835 - val_loss: 0.1053 - val_acc: 0.8746\n",
            "Epoch 10/50\n",
            "30/30 [==============================] - 1s 48ms/step - loss: 0.0124 - acc: 0.9866 - val_loss: 0.1118 - val_acc: 0.8699\n",
            "Epoch 11/50\n",
            "30/30 [==============================] - 1s 48ms/step - loss: 0.0114 - acc: 0.9872 - val_loss: 0.1099 - val_acc: 0.8736\n",
            "Epoch 12/50\n",
            "30/30 [==============================] - 1s 49ms/step - loss: 0.0065 - acc: 0.9937 - val_loss: 0.1114 - val_acc: 0.8723\n",
            "Epoch 13/50\n",
            "30/30 [==============================] - 1s 49ms/step - loss: 0.0123 - acc: 0.9862 - val_loss: 0.1135 - val_acc: 0.8706\n",
            "Epoch 14/50\n",
            "30/30 [==============================] - 1s 49ms/step - loss: 0.0057 - acc: 0.9943 - val_loss: 0.1222 - val_acc: 0.8617\n",
            "Epoch 15/50\n",
            "30/30 [==============================] - 1s 48ms/step - loss: 0.0124 - acc: 0.9856 - val_loss: 0.1159 - val_acc: 0.8688\n",
            "Epoch 16/50\n",
            "30/30 [==============================] - 1s 48ms/step - loss: 0.0132 - acc: 0.9848 - val_loss: 0.1164 - val_acc: 0.8695\n",
            "Epoch 17/50\n",
            "30/30 [==============================] - 1s 48ms/step - loss: 0.0094 - acc: 0.9891 - val_loss: 0.1181 - val_acc: 0.8679\n",
            "Epoch 18/50\n",
            "30/30 [==============================] - 1s 47ms/step - loss: 0.0051 - acc: 0.9951 - val_loss: 0.1196 - val_acc: 0.8655\n",
            "Epoch 19/50\n",
            "30/30 [==============================] - 1s 48ms/step - loss: 0.0104 - acc: 0.9886 - val_loss: 0.1203 - val_acc: 0.8656\n",
            "Epoch 20/50\n",
            "30/30 [==============================] - 1s 48ms/step - loss: 0.0045 - acc: 0.9955 - val_loss: 0.1221 - val_acc: 0.8650\n",
            "Epoch 21/50\n",
            "30/30 [==============================] - 1s 48ms/step - loss: 0.0043 - acc: 0.9957 - val_loss: 0.1223 - val_acc: 0.8647\n",
            "Epoch 22/50\n",
            "30/30 [==============================] - 1s 48ms/step - loss: 0.0105 - acc: 0.9886 - val_loss: 0.1217 - val_acc: 0.8653\n",
            "Epoch 23/50\n",
            "30/30 [==============================] - 1s 48ms/step - loss: 0.0042 - acc: 0.9958 - val_loss: 0.1226 - val_acc: 0.8644\n",
            "Epoch 24/50\n",
            "30/30 [==============================] - 1s 49ms/step - loss: 0.0042 - acc: 0.9958 - val_loss: 0.1229 - val_acc: 0.8637\n",
            "Epoch 25/50\n",
            "30/30 [==============================] - 1s 48ms/step - loss: 0.0041 - acc: 0.9959 - val_loss: 0.1236 - val_acc: 0.8645\n",
            "Epoch 26/50\n",
            "30/30 [==============================] - 1s 49ms/step - loss: 0.0109 - acc: 0.9878 - val_loss: 0.1233 - val_acc: 0.8648\n",
            "Epoch 27/50\n",
            "30/30 [==============================] - 1s 48ms/step - loss: 0.0041 - acc: 0.9959 - val_loss: 0.1313 - val_acc: 0.8566\n",
            "Epoch 28/50\n",
            "30/30 [==============================] - 1s 48ms/step - loss: 0.0097 - acc: 0.9893 - val_loss: 0.1277 - val_acc: 0.8606\n",
            "Epoch 29/50\n",
            "30/30 [==============================] - 1s 48ms/step - loss: 0.0042 - acc: 0.9957 - val_loss: 0.1379 - val_acc: 0.8501\n",
            "Epoch 30/50\n",
            "30/30 [==============================] - 1s 47ms/step - loss: 0.0053 - acc: 0.9943 - val_loss: 0.1264 - val_acc: 0.8620\n",
            "Epoch 31/50\n",
            "30/30 [==============================] - 1s 49ms/step - loss: 0.0039 - acc: 0.9961 - val_loss: 0.1278 - val_acc: 0.8592\n",
            "Epoch 32/50\n",
            "30/30 [==============================] - 1s 48ms/step - loss: 0.0039 - acc: 0.9961 - val_loss: 0.1270 - val_acc: 0.8621\n",
            "Epoch 33/50\n",
            "30/30 [==============================] - 1s 48ms/step - loss: 0.0039 - acc: 0.9961 - val_loss: 0.1263 - val_acc: 0.8626\n",
            "Epoch 34/50\n",
            "30/30 [==============================] - 1s 48ms/step - loss: 0.0039 - acc: 0.9961 - val_loss: 0.1265 - val_acc: 0.8622\n",
            "Epoch 35/50\n",
            "30/30 [==============================] - 1s 48ms/step - loss: 0.0099 - acc: 0.9889 - val_loss: 0.1256 - val_acc: 0.8638\n",
            "Epoch 36/50\n",
            "30/30 [==============================] - 1s 48ms/step - loss: 0.0038 - acc: 0.9962 - val_loss: 0.1266 - val_acc: 0.8622\n",
            "Epoch 37/50\n",
            "30/30 [==============================] - 1s 48ms/step - loss: 0.0038 - acc: 0.9962 - val_loss: 0.1264 - val_acc: 0.8628\n",
            "Epoch 38/50\n",
            "30/30 [==============================] - 1s 48ms/step - loss: 0.0038 - acc: 0.9962 - val_loss: 0.1265 - val_acc: 0.8622\n",
            "Epoch 39/50\n",
            "30/30 [==============================] - 1s 49ms/step - loss: 0.0038 - acc: 0.9962 - val_loss: 0.1266 - val_acc: 0.8625\n",
            "Epoch 40/50\n",
            "30/30 [==============================] - 1s 48ms/step - loss: 0.0038 - acc: 0.9962 - val_loss: 0.1270 - val_acc: 0.8618\n",
            "Epoch 41/50\n",
            "30/30 [==============================] - 1s 49ms/step - loss: 0.0088 - acc: 0.9901 - val_loss: 0.1261 - val_acc: 0.8650\n",
            "Epoch 42/50\n",
            "30/30 [==============================] - 1s 48ms/step - loss: 0.0038 - acc: 0.9963 - val_loss: 0.1263 - val_acc: 0.8638\n",
            "Epoch 43/50\n",
            "30/30 [==============================] - 1s 48ms/step - loss: 0.0037 - acc: 0.9963 - val_loss: 0.1261 - val_acc: 0.8632\n",
            "Epoch 44/50\n",
            "30/30 [==============================] - 1s 48ms/step - loss: 0.0037 - acc: 0.9963 - val_loss: 0.1262 - val_acc: 0.8631\n",
            "Epoch 45/50\n",
            "30/30 [==============================] - 1s 47ms/step - loss: 0.0037 - acc: 0.9963 - val_loss: 0.1264 - val_acc: 0.8632\n",
            "Epoch 46/50\n",
            "30/30 [==============================] - 1s 50ms/step - loss: 0.0084 - acc: 0.9907 - val_loss: 0.1282 - val_acc: 0.8617\n",
            "Epoch 47/50\n",
            "30/30 [==============================] - 1s 49ms/step - loss: 0.0037 - acc: 0.9963 - val_loss: 0.1280 - val_acc: 0.8619\n",
            "Epoch 48/50\n",
            "30/30 [==============================] - 1s 48ms/step - loss: 0.0037 - acc: 0.9963 - val_loss: 0.1282 - val_acc: 0.8618\n",
            "Epoch 49/50\n",
            "30/30 [==============================] - 1s 48ms/step - loss: 0.0037 - acc: 0.9963 - val_loss: 0.1284 - val_acc: 0.8619\n",
            "Epoch 50/50\n",
            "30/30 [==============================] - 1s 47ms/step - loss: 0.0037 - acc: 0.9963 - val_loss: 0.1285 - val_acc: 0.8624\n"
          ]
        }
      ]
    },
    {
      "cell_type": "code",
      "metadata": {
        "colab": {
          "base_uri": "https://localhost:8080/"
        },
        "id": "4GAartWj1rRu",
        "outputId": "919ba2a4-852b-43e6-abbc-29c2cee0145d"
      },
      "source": [
        "# model.fit() 메서드는 History 객체를 반환\n",
        "# 훈련하는 동안 발생한 모든 정보\n",
        "history_dict = history.history\n",
        "history_dict.keys()"
      ],
      "execution_count": 12,
      "outputs": [
        {
          "output_type": "execute_result",
          "data": {
            "text/plain": [
              "dict_keys(['loss', 'acc', 'val_loss', 'val_acc'])"
            ]
          },
          "metadata": {},
          "execution_count": 12
        }
      ]
    },
    {
      "cell_type": "code",
      "metadata": {
        "colab": {
          "base_uri": "https://localhost:8080/",
          "height": 730
        },
        "id": "Qs-4jvm510Y_",
        "outputId": "a42af551-ec9d-4fbd-d2ca-bd156f9606fa"
      },
      "source": [
        "import matplotlib.pyplot as plt\n",
        "\n",
        "history_dict = history.history\n",
        "loss = history_dict['loss']\n",
        "val_loss = history_dict['val_loss']\n",
        "\n",
        "epochs = range(1, len(loss)+1)\n",
        "\n",
        "plt.figure(figsize=(16,12))\n",
        "plt.plot(epochs, loss, 'bo', label='Training loss')\n",
        "plt.plot(epochs, val_loss, 'b', label='Validation loss')\n",
        "plt.title('Tranining and validation loss')\n",
        "plt.xlabel('Epochs')\n",
        "plt.ylabel('loss')\n",
        "plt.legend()\n",
        "plt.show()"
      ],
      "execution_count": 13,
      "outputs": [
        {
          "output_type": "display_data",
          "data": {
            "image/png": "[encoded data removed]",
            "text/plain": [
              "<Figure size 1152x864 with 1 Axes>"
            ]
          },
          "metadata": {
            "needs_background": "light"
          }
        }
      ]
    },
    {
      "cell_type": "code",
      "metadata": {
        "colab": {
          "base_uri": "https://localhost:8080/",
          "height": 749
        },
        "id": "se50GuPA133f",
        "outputId": "b6432349-07fd-4ab6-8a9f-3f2f32e230d4"
      },
      "source": [
        "plt.clf()\n",
        "acc = history_dict['acc']\n",
        "val_acc = history_dict['val_acc']\n",
        "\n",
        "plt.figure(figsize=(16,12))\n",
        "plt.plot(epochs, acc, 'bo', label='Training acc')\n",
        "plt.plot(epochs, val_acc, 'b', label='Validation acc')\n",
        "plt.title('Tranining and validation accuracy')\n",
        "plt.xlabel('Epochs')\n",
        "plt.ylabel('Accuracy')\n",
        "plt.legend()\n",
        "plt.show()"
      ],
      "execution_count": 14,
      "outputs": [
        {
          "output_type": "display_data",
          "data": {
            "text/plain": [
              "<Figure size 432x288 with 0 Axes>"
            ]
          },
          "metadata": {}
        },
        {
          "output_type": "display_data",
          "data": {
            "image/png": "[encoded data removed]",
            "text/plain": [
              "<Figure size 1152x864 with 1 Axes>"
            ]
          },
          "metadata": {
            "needs_background": "light"
          }
        }
      ]
    },
    {
      "cell_type": "code",
      "metadata": {
        "colab": {
          "base_uri": "https://localhost:8080/"
        },
        "id": "GwHbcAvl15XS",
        "outputId": "2b55103c-3f0f-4654-f436-770d6474d947"
      },
      "source": [
        "# 과대적합을 방지하기 위해 세번째 에포크 이후에 훈련을 중지할 수 있음\n",
        "model = models.Sequential()\n",
        "model.add(layers.Dense(16, activation='tanh', input_shape=(10000,)))\n",
        "model.add(layers.Dense(16, activation='tanh'))\n",
        "model.add(layers.Dense(1, activation='sigmoid'))\n",
        "\n",
        "\n",
        "model.compile(optimizer='rmsprop', loss='mse', metrics=['accuracy'])\n",
        "model.fit(x_train, y_train, epochs=4, batch_size=512)\n",
        "results = model.evaluate(x_test, y_test)\n",
        "print(results)"
      ],
      "execution_count": 16,
      "outputs": [
        {
          "output_type": "stream",
          "name": "stdout",
          "text": [
            "Epoch 1/4\n",
            "49/49 [==============================] - 2s 32ms/step - loss: 0.1380 - accuracy: 0.8257\n",
            "Epoch 2/4\n",
            "49/49 [==============================] - 2s 31ms/step - loss: 0.0684 - accuracy: 0.9181\n",
            "Epoch 3/4\n",
            "49/49 [==============================] - 2s 31ms/step - loss: 0.0512 - accuracy: 0.9353\n",
            "Epoch 4/4\n",
            "49/49 [==============================] - 2s 31ms/step - loss: 0.0409 - accuracy: 0.9486\n",
            "782/782 [==============================] - 2s 2ms/step - loss: 0.0928 - accuracy: 0.8767\n",
            "[0.09278146177530289, 0.8767200112342834]\n"
          ]
        }
      ]
    },
    {
      "cell_type": "code",
      "metadata": {
        "colab": {
          "base_uri": "https://localhost:8080/"
        },
        "id": "IHQDtsGC16vt",
        "outputId": "efda09ee-3675-45c9-ab2b-8d4819eff3d6"
      },
      "source": [
        "# 훈련된 모델로 새로운 데이터에 대해 예측\n",
        "model.predict(x_test)"
      ],
      "execution_count": 17,
      "outputs": [
        {
          "output_type": "execute_result",
          "data": {
            "text/plain": [
              "array([[0.04990372],\n",
              "       [0.9983437 ],\n",
              "       [0.9846486 ],\n",
              "       ...,\n",
              "       [0.25448468],\n",
              "       [0.03161788],\n",
              "       [0.79766977]], dtype=float32)"
            ]
          },
          "metadata": {},
          "execution_count": 17
        }
      ]
    },
    {
      "cell_type": "code",
      "metadata": {
        "id": "tcerDvqc18LI"
      },
      "source": [
        ""
      ],
      "execution_count": null,
      "outputs": []
    }
  ]
}