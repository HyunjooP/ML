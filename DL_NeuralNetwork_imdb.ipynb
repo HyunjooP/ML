{
  "nbformat": 4,
  "nbformat_minor": 0,
  "metadata": {
    "colab": {
      "name": "DL_NeuralNetwork_imdb.ipynb",
      "provenance": [],
      "collapsed_sections": []
    },
    "kernelspec": {
      "name": "python3",
      "display_name": "Python 3"
    },
    "language_info": {
      "name": "python"
    }
  },
  "cells": [
    {
      "cell_type": "markdown",
      "metadata": {
        "id": "e0KgkBY_oK0s"
      },
      "source": [
        "# Neural Network - 영화리뷰 분류"
      ]
    },
    {
      "cell_type": "code",
      "metadata": {
        "colab": {
          "base_uri": "https://localhost:8080/"
        },
        "id": "CnzwFDQboJT-",
        "outputId": "a74cff5f-f436-4c26-d0bb-460ba860dcd2"
      },
      "source": [
        "from keras import optimizers\n",
        "from keras.datasets import imdb\n",
        "(train_data, train_labels), (test_data, test_labels) = imdb.load_data(num_words=10000)"
      ],
      "execution_count": 1,
      "outputs": [
        {
          "output_type": "stream",
          "name": "stdout",
          "text": [
            "Downloading data from https://storage.googleapis.com/tensorflow/tf-keras-datasets/imdb.npz\n",
            "17465344/17464789 [==============================] - 0s 0us/step\n",
            "17473536/17464789 [==============================] - 0s 0us/step\n"
          ]
        }
      ]
    },
    {
      "cell_type": "code",
      "metadata": {
        "colab": {
          "base_uri": "https://localhost:8080/"
        },
        "id": "p0f6tS55oVX3",
        "outputId": "1e8696cc-033a-4769-e77b-fadc3552258d"
      },
      "source": [
        "print (train_data[0])"
      ],
      "execution_count": 2,
      "outputs": [
        {
          "output_type": "stream",
          "name": "stdout",
          "text": [
            "[1, 14, 22, 16, 43, 530, 973, 1622, 1385, 65, 458, 4468, 66, 3941, 4, 173, 36, 256, 5, 25, 100, 43, 838, 112, 50, 670, 2, 9, 35, 480, 284, 5, 150, 4, 172, 112, 167, 2, 336, 385, 39, 4, 172, 4536, 1111, 17, 546, 38, 13, 447, 4, 192, 50, 16, 6, 147, 2025, 19, 14, 22, 4, 1920, 4613, 469, 4, 22, 71, 87, 12, 16, 43, 530, 38, 76, 15, 13, 1247, 4, 22, 17, 515, 17, 12, 16, 626, 18, 2, 5, 62, 386, 12, 8, 316, 8, 106, 5, 4, 2223, 5244, 16, 480, 66, 3785, 33, 4, 130, 12, 16, 38, 619, 5, 25, 124, 51, 36, 135, 48, 25, 1415, 33, 6, 22, 12, 215, 28, 77, 52, 5, 14, 407, 16, 82, 2, 8, 4, 107, 117, 5952, 15, 256, 4, 2, 7, 3766, 5, 723, 36, 71, 43, 530, 476, 26, 400, 317, 46, 7, 4, 2, 1029, 13, 104, 88, 4, 381, 15, 297, 98, 32, 2071, 56, 26, 141, 6, 194, 7486, 18, 4, 226, 22, 21, 134, 476, 26, 480, 5, 144, 30, 5535, 18, 51, 36, 28, 224, 92, 25, 104, 4, 226, 65, 16, 38, 1334, 88, 12, 16, 283, 5, 16, 4472, 113, 103, 32, 15, 16, 5345, 19, 178, 32]\n"
          ]
        }
      ]
    },
    {
      "cell_type": "code",
      "metadata": {
        "colab": {
          "base_uri": "https://localhost:8080/"
        },
        "id": "d1Rh5lD0ofs1",
        "outputId": "3dd5f12f-2b29-4a97-8ecc-29140d6afcd0"
      },
      "source": [
        "print (train_labels[0])"
      ],
      "execution_count": 4,
      "outputs": [
        {
          "output_type": "stream",
          "name": "stdout",
          "text": [
            "1\n"
          ]
        }
      ]
    },
    {
      "cell_type": "code",
      "metadata": {
        "colab": {
          "base_uri": "https://localhost:8080/"
        },
        "id": "Zfsf6OoRohTr",
        "outputId": "b0a8c0a4-0040-453a-a51b-52afb0e54ced"
      },
      "source": [
        "print (max([max(sequence) for sequence in train_data]))"
      ],
      "execution_count": 5,
      "outputs": [
        {
          "output_type": "stream",
          "name": "stdout",
          "text": [
            "9999\n"
          ]
        }
      ]
    },
    {
      "cell_type": "code",
      "metadata": {
        "colab": {
          "base_uri": "https://localhost:8080/"
        },
        "id": "FG-nlh1bohRF",
        "outputId": "c025ccbf-bff9-49a3-8240-492cc28c931f"
      },
      "source": [
        "word_index = imdb.get_word_index()\n",
        "reverse_word_index = dict([(value, key) for (key, value) in word_index.items()])\n",
        "decoded_review = ' '.join([reverse_word_index.get(i-3, '?') for i in train_data[0]])\n",
        "print (decoded_review)"
      ],
      "execution_count": 6,
      "outputs": [
        {
          "output_type": "stream",
          "name": "stdout",
          "text": [
            "Downloading data from https://storage.googleapis.com/tensorflow/tf-keras-datasets/imdb_word_index.json\n",
            "1646592/1641221 [==============================] - 0s 0us/step\n",
            "1654784/1641221 [==============================] - 0s 0us/step\n",
            "? this film was just brilliant casting location scenery story direction everyone's really suited the part they played and you could just imagine being there robert ? is an amazing actor and now the same being director ? father came from the same scottish island as myself so i loved the fact there was a real connection with this film the witty remarks throughout the film were great it was just brilliant so much that i bought the film as soon as it was released for ? and would recommend it to everyone to watch and the fly fishing was amazing really cried at the end it was so sad and you know what they say if you cry at a film it must have been good and this definitely was also ? to the two little boy's that played the ? of norman and paul they were just brilliant children are often left out of the ? list i think because the stars that play them all grown up are such a big profile for the whole film but these children are amazing and should be praised for what they have done don't you think the whole story was so lovely because it was true and was someone's life after all that was shared with us all\n"
          ]
        }
      ]
    },
    {
      "cell_type": "code",
      "metadata": {
        "id": "_REuRNkUohOJ"
      },
      "source": [
        "# 정수 시퀀스를 이진 행렬로 인코딩\n",
        "import numpy as np\n",
        "\n",
        "def vectorize_sequences(seqs, dim=10000):\n",
        "  results = np.zeros((len(seqs), dim))\n",
        "  for i, seq in enumerate(seqs):\n",
        "    results[i, seq] = 1\n",
        "  return results\n",
        "\n",
        "x_train = vectorize_sequences(train_data)\n",
        "x_test = vectorize_sequences(test_data)"
      ],
      "execution_count": 19,
      "outputs": []
    },
    {
      "cell_type": "code",
      "metadata": {
        "colab": {
          "base_uri": "https://localhost:8080/"
        },
        "id": "ml0jK4PGohLD",
        "outputId": "62a1a0c2-4e76-4410-91fc-46fd8ae7d9f6"
      },
      "source": [
        "print(x_train[0])"
      ],
      "execution_count": 20,
      "outputs": [
        {
          "output_type": "stream",
          "name": "stdout",
          "text": [
            "[0. 1. 1. ... 0. 0. 0.]\n"
          ]
        }
      ]
    },
    {
      "cell_type": "code",
      "metadata": {
        "id": "shzb4j_aohH7"
      },
      "source": [
        "y_train = np.asarray(train_labels).astype('float32')\n",
        "y_test = np.asarray(test_labels).astype('float32')"
      ],
      "execution_count": 21,
      "outputs": []
    },
    {
      "cell_type": "code",
      "metadata": {
        "id": "sLCJBxESohEv"
      },
      "source": [
        "from keras import models\n",
        "from keras import layers\n",
        "\n",
        "model = models.Sequential()\n",
        "model.add(layers.Dense(16, activation='relu', input_shape=(10000,)))\n",
        "model.add(layers.Dense(16, activation='relu'))\n",
        "# 16은 은닉 유닛의 개수\n",
        "model.add(layers.Dense(1, activation='sigmoid'))\n",
        "# 신경망의 출력이 확률이므로 네트워크의 마지막에 시그모이드 활성화함수를 사용\n",
        "# 확률을 출력하는 모델을 사용할 때는 크로스엔트로피가 최선의 선택"
      ],
      "execution_count": 40,
      "outputs": []
    },
    {
      "cell_type": "code",
      "metadata": {
        "id": "-80t4I1WohBn"
      },
      "source": [
        "model.compile(optimizer='rmsprop', loss='binary_crossentropy', metrics=['accuracy'])"
      ],
      "execution_count": 41,
      "outputs": []
    },
    {
      "cell_type": "code",
      "metadata": {
        "colab": {
          "base_uri": "https://localhost:8080/"
        },
        "id": "JDTG5C-dog-y",
        "outputId": "5c683839-d2e7-42d2-d320-c2b5eba2c078"
      },
      "source": [
        "from tensorflow.keras import optimizers\n",
        "\n",
        "model.compile(optimizer=optimizers.RMSprop(lr=0.001), loss='binary_crossentropy', metrics=['accuracy'])"
      ],
      "execution_count": 42,
      "outputs": [
        {
          "output_type": "stream",
          "name": "stderr",
          "text": [
            "/usr/local/lib/python3.7/dist-packages/keras/optimizer_v2/optimizer_v2.py:356: UserWarning: The `lr` argument is deprecated, use `learning_rate` instead.\n",
            "  \"The `lr` argument is deprecated, use `learning_rate` instead.\")\n"
          ]
        }
      ]
    },
    {
      "cell_type": "code",
      "metadata": {
        "colab": {
          "base_uri": "https://localhost:8080/"
        },
        "id": "C3rBEodCrYWi",
        "outputId": "3dc4a2b3-07a1-4549-fd84-c4dc3c83816a"
      },
      "source": [
        "from keras import losses\n",
        "from keras import metrics\n",
        "\n",
        "model.compile(optimizer=optimizers.RMSprop(lr=0.001), loss=losses.binary_crossentropy, metrics=[metrics.binary_accuracy])\n"
      ],
      "execution_count": 43,
      "outputs": [
        {
          "output_type": "stream",
          "name": "stderr",
          "text": [
            "/usr/local/lib/python3.7/dist-packages/keras/optimizer_v2/optimizer_v2.py:356: UserWarning: The `lr` argument is deprecated, use `learning_rate` instead.\n",
            "  \"The `lr` argument is deprecated, use `learning_rate` instead.\")\n"
          ]
        }
      ]
    },
    {
      "cell_type": "code",
      "metadata": {
        "id": "6r89V0TcsZ7z"
      },
      "source": [
        "# 훈련 검증\n",
        "x_val = x_train[:10000]\n",
        "partial_x_train = x_train[10000:]\n",
        "y_val = y_train[:10000]\n",
        "partial_y_train = y_train[10000:]"
      ],
      "execution_count": 44,
      "outputs": []
    },
    {
      "cell_type": "code",
      "metadata": {
        "colab": {
          "base_uri": "https://localhost:8080/"
        },
        "id": "KytM8mdcsz4J",
        "outputId": "2a1b5b01-a280-499e-e55e-97d7fcb5c0dc"
      },
      "source": [
        "# 모델을 512개의 샘플씩 미니 배치를 만들어 20번의 에포크 동안 훈련시킴\n",
        "model.compile(optimizer='rmsprop', loss='binary_crossentropy', metrics=['acc'])\n",
        "history = model.fit(partial_x_train, partial_y_train, epochs=50, batch_size=512, validation_data=(x_val, y_val))"
      ],
      "execution_count": 45,
      "outputs": [
        {
          "output_type": "stream",
          "name": "stdout",
          "text": [
            "Epoch 1/50\n",
            "30/30 [==============================] - 2s 40ms/step - loss: 0.5044 - acc: 0.7926 - val_loss: 0.3785 - val_acc: 0.8715\n",
            "Epoch 2/50\n",
            "30/30 [==============================] - 1s 33ms/step - loss: 0.2995 - acc: 0.9074 - val_loss: 0.3043 - val_acc: 0.8875\n",
            "Epoch 3/50\n",
            "30/30 [==============================] - 1s 32ms/step - loss: 0.2223 - acc: 0.9287 - val_loss: 0.2784 - val_acc: 0.8909\n",
            "Epoch 4/50\n",
            "30/30 [==============================] - 1s 32ms/step - loss: 0.1760 - acc: 0.9428 - val_loss: 0.2748 - val_acc: 0.8904\n",
            "Epoch 5/50\n",
            "30/30 [==============================] - 1s 31ms/step - loss: 0.1419 - acc: 0.9563 - val_loss: 0.3051 - val_acc: 0.8788\n",
            "Epoch 6/50\n",
            "30/30 [==============================] - 1s 32ms/step - loss: 0.1185 - acc: 0.9647 - val_loss: 0.3076 - val_acc: 0.8805\n",
            "Epoch 7/50\n",
            "30/30 [==============================] - 1s 33ms/step - loss: 0.0985 - acc: 0.9695 - val_loss: 0.3281 - val_acc: 0.8784\n",
            "Epoch 8/50\n",
            "30/30 [==============================] - 1s 33ms/step - loss: 0.0806 - acc: 0.9770 - val_loss: 0.3292 - val_acc: 0.8810\n",
            "Epoch 9/50\n",
            "30/30 [==============================] - 1s 33ms/step - loss: 0.0675 - acc: 0.9820 - val_loss: 0.3675 - val_acc: 0.8734\n",
            "Epoch 10/50\n",
            "30/30 [==============================] - 1s 31ms/step - loss: 0.0554 - acc: 0.9856 - val_loss: 0.3799 - val_acc: 0.8759\n",
            "Epoch 11/50\n",
            "30/30 [==============================] - 1s 31ms/step - loss: 0.0466 - acc: 0.9886 - val_loss: 0.4354 - val_acc: 0.8702\n",
            "Epoch 12/50\n",
            "30/30 [==============================] - 1s 32ms/step - loss: 0.0375 - acc: 0.9919 - val_loss: 0.4466 - val_acc: 0.8722\n",
            "Epoch 13/50\n",
            "30/30 [==============================] - 1s 33ms/step - loss: 0.0288 - acc: 0.9950 - val_loss: 0.4666 - val_acc: 0.8719\n",
            "Epoch 14/50\n",
            "30/30 [==============================] - 1s 31ms/step - loss: 0.0260 - acc: 0.9939 - val_loss: 0.5006 - val_acc: 0.8681\n",
            "Epoch 15/50\n",
            "30/30 [==============================] - 1s 31ms/step - loss: 0.0207 - acc: 0.9963 - val_loss: 0.5331 - val_acc: 0.8688\n",
            "Epoch 16/50\n",
            "30/30 [==============================] - 1s 31ms/step - loss: 0.0126 - acc: 0.9989 - val_loss: 0.5677 - val_acc: 0.8658\n",
            "Epoch 17/50\n",
            "30/30 [==============================] - 1s 31ms/step - loss: 0.0126 - acc: 0.9985 - val_loss: 0.5988 - val_acc: 0.8665\n",
            "Epoch 18/50\n",
            "30/30 [==============================] - 1s 31ms/step - loss: 0.0124 - acc: 0.9977 - val_loss: 0.6323 - val_acc: 0.8645\n",
            "Epoch 19/50\n",
            "30/30 [==============================] - 1s 31ms/step - loss: 0.0057 - acc: 0.9997 - val_loss: 0.6614 - val_acc: 0.8658\n",
            "Epoch 20/50\n",
            "30/30 [==============================] - 1s 31ms/step - loss: 0.0086 - acc: 0.9984 - val_loss: 0.6871 - val_acc: 0.8655\n",
            "Epoch 21/50\n",
            "30/30 [==============================] - 1s 31ms/step - loss: 0.0035 - acc: 0.9999 - val_loss: 0.7363 - val_acc: 0.8621\n",
            "Epoch 22/50\n",
            "30/30 [==============================] - 1s 32ms/step - loss: 0.0062 - acc: 0.9986 - val_loss: 0.7548 - val_acc: 0.8646\n",
            "Epoch 23/50\n",
            "30/30 [==============================] - 1s 31ms/step - loss: 0.0020 - acc: 0.9999 - val_loss: 0.7899 - val_acc: 0.8640\n",
            "Epoch 24/50\n",
            "30/30 [==============================] - 1s 31ms/step - loss: 0.0061 - acc: 0.9983 - val_loss: 0.8359 - val_acc: 0.8637\n",
            "Epoch 25/50\n",
            "30/30 [==============================] - 1s 31ms/step - loss: 0.0012 - acc: 0.9999 - val_loss: 0.8478 - val_acc: 0.8633\n",
            "Epoch 26/50\n",
            "30/30 [==============================] - 1s 31ms/step - loss: 0.0010 - acc: 0.9999 - val_loss: 0.8820 - val_acc: 0.8632\n",
            "Epoch 27/50\n",
            "30/30 [==============================] - 1s 31ms/step - loss: 0.0040 - acc: 0.9991 - val_loss: 0.9250 - val_acc: 0.8609\n",
            "Epoch 28/50\n",
            "30/30 [==============================] - 1s 32ms/step - loss: 6.2890e-04 - acc: 0.9999 - val_loss: 0.9400 - val_acc: 0.8621\n",
            "Epoch 29/50\n",
            "30/30 [==============================] - 1s 32ms/step - loss: 5.3045e-04 - acc: 0.9999 - val_loss: 0.9891 - val_acc: 0.8595\n",
            "Epoch 30/50\n",
            "30/30 [==============================] - 1s 31ms/step - loss: 0.0025 - acc: 0.9992 - val_loss: 1.0325 - val_acc: 0.8595\n",
            "Epoch 31/50\n",
            "30/30 [==============================] - 1s 32ms/step - loss: 3.0814e-04 - acc: 0.9999 - val_loss: 1.0515 - val_acc: 0.8594\n",
            "Epoch 32/50\n",
            "30/30 [==============================] - 1s 31ms/step - loss: 2.6718e-04 - acc: 0.9999 - val_loss: 1.0828 - val_acc: 0.8595\n",
            "Epoch 33/50\n",
            "30/30 [==============================] - 1s 32ms/step - loss: 0.0028 - acc: 0.9991 - val_loss: 1.1264 - val_acc: 0.8596\n",
            "Epoch 34/50\n",
            "30/30 [==============================] - 1s 33ms/step - loss: 2.1919e-04 - acc: 0.9999 - val_loss: 1.1408 - val_acc: 0.8580\n",
            "Epoch 35/50\n",
            "30/30 [==============================] - 1s 33ms/step - loss: 1.6265e-04 - acc: 1.0000 - val_loss: 1.1631 - val_acc: 0.8571\n",
            "Epoch 36/50\n",
            "30/30 [==============================] - 1s 32ms/step - loss: 1.2580e-04 - acc: 1.0000 - val_loss: 1.2120 - val_acc: 0.8589\n",
            "Epoch 37/50\n",
            "30/30 [==============================] - 1s 31ms/step - loss: 0.0026 - acc: 0.9994 - val_loss: 1.2438 - val_acc: 0.8570\n",
            "Epoch 38/50\n",
            "30/30 [==============================] - 1s 31ms/step - loss: 8.7460e-05 - acc: 1.0000 - val_loss: 1.2549 - val_acc: 0.8573\n",
            "Epoch 39/50\n",
            "30/30 [==============================] - 1s 31ms/step - loss: 7.0995e-05 - acc: 1.0000 - val_loss: 1.2727 - val_acc: 0.8581\n",
            "Epoch 40/50\n",
            "30/30 [==============================] - 1s 31ms/step - loss: 5.8481e-05 - acc: 1.0000 - val_loss: 1.3116 - val_acc: 0.8572\n",
            "Epoch 41/50\n",
            "30/30 [==============================] - 1s 32ms/step - loss: 0.0011 - acc: 0.9996 - val_loss: 1.3687 - val_acc: 0.8570\n",
            "Epoch 42/50\n",
            "30/30 [==============================] - 1s 31ms/step - loss: 3.9838e-05 - acc: 1.0000 - val_loss: 1.3694 - val_acc: 0.8560\n",
            "Epoch 43/50\n",
            "30/30 [==============================] - 1s 32ms/step - loss: 3.4242e-05 - acc: 1.0000 - val_loss: 1.3837 - val_acc: 0.8563\n",
            "Epoch 44/50\n",
            "30/30 [==============================] - 1s 32ms/step - loss: 2.9663e-05 - acc: 1.0000 - val_loss: 1.4169 - val_acc: 0.8561\n",
            "Epoch 45/50\n",
            "30/30 [==============================] - 1s 31ms/step - loss: 8.5752e-04 - acc: 0.9998 - val_loss: 1.4901 - val_acc: 0.8573\n",
            "Epoch 46/50\n",
            "30/30 [==============================] - 1s 32ms/step - loss: 1.7039e-05 - acc: 1.0000 - val_loss: 1.4853 - val_acc: 0.8565\n",
            "Epoch 47/50\n",
            "30/30 [==============================] - 1s 31ms/step - loss: 1.5396e-05 - acc: 1.0000 - val_loss: 1.4984 - val_acc: 0.8558\n",
            "Epoch 48/50\n",
            "30/30 [==============================] - 1s 31ms/step - loss: 1.4145e-05 - acc: 1.0000 - val_loss: 1.5128 - val_acc: 0.8562\n",
            "Epoch 49/50\n",
            "30/30 [==============================] - 1s 31ms/step - loss: 1.2319e-05 - acc: 1.0000 - val_loss: 1.5565 - val_acc: 0.8557\n",
            "Epoch 50/50\n",
            "30/30 [==============================] - 1s 31ms/step - loss: 6.9338e-04 - acc: 0.9997 - val_loss: 1.5919 - val_acc: 0.8561\n"
          ]
        }
      ]
    },
    {
      "cell_type": "code",
      "metadata": {
        "colab": {
          "base_uri": "https://localhost:8080/"
        },
        "id": "YzCecHr5tYoO",
        "outputId": "9a0d6b3d-c24e-4cd2-e9bb-17442a6dec79"
      },
      "source": [
        "# model.fit() 메서드는 History 객체를 반환\n",
        "# 훈련하는 동안 발생한 모든 정보\n",
        "를 담고 있는 딕셔너리인 history 속성을 가지고 있음\n",
        "history_dict = history.history\n",
        "history_dict.keys()"
      ],
      "execution_count": 46,
      "outputs": [
        {
          "output_type": "execute_result",
          "data": {
            "text/plain": [
              "dict_keys(['loss', 'acc', 'val_loss', 'val_acc'])"
            ]
          },
          "metadata": {},
          "execution_count": 46
        }
      ]
    },
    {
      "cell_type": "code",
      "metadata": {
        "colab": {
          "base_uri": "https://localhost:8080/",
          "height": 730
        },
        "id": "Ta_GJ5JOtoLG",
        "outputId": "dfd795a8-5a2e-4650-916c-f486190fe848"
      },
      "source": [
        "import matplotlib.pyplot as plt\n",
        "\n",
        "history_dict = history.history\n",
        "loss = history_dict['loss']\n",
        "val_loss = history_dict['val_loss']\n",
        "\n",
        "epochs = range(1, len(loss)+1)\n",
        "\n",
        "plt.figure(figsize=(16,12))\n",
        "plt.plot(epochs, loss, 'bo', label='Training loss')\n",
        "plt.plot(epochs, val_loss, 'b', label='Validation loss')\n",
        "plt.title('Tranining and validation loss')\n",
        "plt.xlabel('Epochs')\n",
        "plt.ylabel('loss')\n",
        "plt.legend()\n",
        "plt.show()"
      ],
      "execution_count": 47,
      "outputs": [
        {
          "output_type": "display_data",
          "data": {
            "image/png": "[encoded data removed]",
            "text/plain": [
              "<Figure size 1152x864 with 1 Axes>"
            ]
          },
          "metadata": {
            "needs_background": "light"
          }
        }
      ]
    },
    {
      "cell_type": "code",
      "metadata": {
        "colab": {
          "base_uri": "https://localhost:8080/",
          "height": 749
        },
        "id": "GpoVff7cu1aH",
        "outputId": "e3986cac-67e9-4137-c74b-7a46d403fdae"
      },
      "source": [
        "plt.clf()\n",
        "acc = history_dict['acc']\n",
        "val_acc = history_dict['val_acc']\n",
        "\n",
        "plt.figure(figsize=(16,12))\n",
        "plt.plot(epochs, acc, 'bo', label='Training acc')\n",
        "plt.plot(epochs, val_acc, 'b', label='Validation acc')\n",
        "plt.title('Tranining and validation accuracy')\n",
        "plt.xlabel('Epochs')\n",
        "plt.ylabel('Accuracy')\n",
        "plt.legend()\n",
        "plt.show()"
      ],
      "execution_count": 48,
      "outputs": [
        {
          "output_type": "display_data",
          "data": {
            "text/plain": [
              "<Figure size 432x288 with 0 Axes>"
            ]
          },
          "metadata": {}
        },
        {
          "output_type": "display_data",
          "data": {
            "image/png": "[encoded data removed]",
            "text/plain": [
              "<Figure size 1152x864 with 1 Axes>"
            ]
          },
          "metadata": {
            "needs_background": "light"
          }
        }
      ]
    },
    {
      "cell_type": "code",
      "metadata": {
        "colab": {
          "base_uri": "https://localhost:8080/"
        },
        "id": "LmSgW7HyveMv",
        "outputId": "e188be4e-6515-4fe5-9bd4-218b4ec8b106"
      },
      "source": [
        "# 과대적합을 방지하기 위해 세번째 에포크 이후에 훈련을 중지할 수 있음\n",
        "model = models.Sequential()\n",
        "model.add(layers.Dense(16, activation='relu', input_shape=(10000,)))\n",
        "model.add(layers.Dense(16, activation='relu'))\n",
        "model.add(layers.Dense(1, activation='sigmoid'))\n",
        "\n",
        "\n",
        "model.compile(optimizer='rmsprop', loss='binary_crossentropy', metrics=['accuracy'])\n",
        "model.fit(x_train, y_train, epochs=4, batch_size=512)\n",
        "results = model.evaluate(x_test, y_test)\n",
        "print(results)"
      ],
      "execution_count": 49,
      "outputs": [
        {
          "output_type": "stream",
          "name": "stdout",
          "text": [
            "Epoch 1/4\n",
            "49/49 [==============================] - 2s 25ms/step - loss: 0.4429 - accuracy: 0.8212\n",
            "Epoch 2/4\n",
            "49/49 [==============================] - 1s 25ms/step - loss: 0.2521 - accuracy: 0.9098\n",
            "Epoch 3/4\n",
            "49/49 [==============================] - 1s 25ms/step - loss: 0.1973 - accuracy: 0.9300\n",
            "Epoch 4/4\n",
            "49/49 [==============================] - 1s 25ms/step - loss: 0.1625 - accuracy: 0.9434\n",
            "782/782 [==============================] - 1s 1ms/step - loss: 0.3011 - accuracy: 0.8812\n",
            "[0.3010518550872803, 0.8812000155448914]\n"
          ]
        }
      ]
    },
    {
      "cell_type": "code",
      "metadata": {
        "colab": {
          "base_uri": "https://localhost:8080/"
        },
        "id": "G-qFaSHrwbPm",
        "outputId": "66bf328d-c891-41fb-fab9-6a8f80e8f313"
      },
      "source": [
        "# 훈련된 모델로 새로운 데이터에 대해 예측\n",
        "model.predict(x_test)"
      ],
      "execution_count": 50,
      "outputs": [
        {
          "output_type": "execute_result",
          "data": {
            "text/plain": [
              "array([[0.18557888],\n",
              "       [0.99986064],\n",
              "       [0.6697271 ],\n",
              "       ...,\n",
              "       [0.09848785],\n",
              "       [0.05327734],\n",
              "       [0.4863258 ]], dtype=float32)"
            ]
          },
          "metadata": {},
          "execution_count": 50
        }
      ]
    },
    {
      "cell_type": "code",
      "metadata": {
        "id": "__O3r31Hwhr1"
      },
      "source": [
        ""
      ],
      "execution_count": null,
      "outputs": []
    }
  ]
}