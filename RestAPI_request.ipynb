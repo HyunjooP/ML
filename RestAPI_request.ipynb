{
  "nbformat": 4,
  "nbformat_minor": 0,
  "metadata": {
    "colab": {
      "name": "RestAPI_request.ipynb",
      "provenance": [],
      "collapsed_sections": []
    },
    "kernelspec": {
      "name": "python3",
      "display_name": "Python 3"
    },
    "language_info": {
      "name": "python"
    }
  },
  "cells": [
    {
      "cell_type": "code",
      "metadata": {
        "colab": {
          "base_uri": "https://localhost:8080/"
        },
        "id": "2TBvwGzWZnLG",
        "outputId": "e518b871-8d0b-4827-e1ec-9d7b560e0b67"
      },
      "source": [
        "import requests\n",
        "\n",
        "url = \"https://mashape-community-skate-ipsum.p.rapidapi.com/3/1/JSON\"\n",
        "\n",
        "headers = {\n",
        "    'x-rapidapi-host': \"mashape-community-skate-ipsum.p.rapidapi.com\",\n",
        "    'x-rapidapi-key': \"1a47c6b394mshefd28d37a58817dp1d781ajsnff98b25cd286\"\n",
        "    }\n",
        "\n",
        "response = requests.request(\"GET\", url, headers=headers)\n",
        "\n",
        "print(response.text)"
      ],
      "execution_count": 18,
      "outputs": [
        {
          "output_type": "stream",
          "name": "stdout",
          "text": [
            "[\"Skate ipsum dolor sit amet,  pivot slam 720 Saran Wrap stalefish. Fastplant 540 impossible rocket air face plant. Wall ride hard flip trucks camel back noseblunt slide. Rock and roll JFA blunt Japan air baseplate darkslide. Grind tail frontside air soul skate rock and roll. Roll-in rail slide alley oop Video Days indy grab slob air. Hand rail pop shove-it frontside betty handplant. Lien air crail grab launch ramp mini ramp bearings. Boardslide judo air quarter pipe heel flip launch ramp Mike York. Bank axle gap helipop 180. Wall ride nollie nosegrind Sims lien air darkslide. \",\"Cab flip concave darkslide bean plant fakie out kickturn. Axle hand rail nose blunt 180 mute-air. Coffin New Deal face plant nose blunt nose bump alley oop. Goofy footed risers face plant lipslide pool. Manual slob air Schmitt Stix skate key finger flip Tracker. Axle set gnarly Tracker casper slide flail. Skate or die acid drop street fakie out nose slide. Freestyle Sean Cliver chicken wing nosepicker darkslide ollie north. Handplant fast plant nose blunt ho-ho nosegrind. Airwalk ho-ho hard flip rocket air ollie north. Stoked ho-ho soul skate baseplate quarter pipe. Fakie out handplant Streetstyle in Tempe launch ramp quarter pipe poseur. Hang up melancholy transition tail disaster Steve Olson. \",\"Trucks 540 hang-up lien air Streets on Fire full pipe street stoked. Griptape late kickflip rad heel flip nosebone nollie Operation Ivy. Bluntslide slide rip grip rad crail slide masonite shoveit. Goofy footed bruised heel Santa Monica Beach kickflip lipslide rocket air death box nose grab. Rocket air Stacy Peralta Saran Wrap wall ride hang ten hanger manual crail grab. Crail grab bluntslide regular footed gnarly bruised heel Rudy Johnson rad stoked. Poseur full-cab sick soul skate face plant kidney lipslide. Frontside air rad 900 wall ride wheels smith grind 180. Skater fastplant 1080 bank poseur 540 dude. Trucks cess slide 540 camel back Andy Takakjian slappy kick-nose carve. Tracker coper rail slide blunt goofy footed backside Jim Phillips cess slide. \"]\n"
          ]
        }
      ]
    },
    {
      "cell_type": "code",
      "metadata": {
        "colab": {
          "base_uri": "https://localhost:8080/"
        },
        "id": "I8oISeEYZsVp",
        "outputId": "d879da26-2fac-4d02-f274-b0b3942044ca"
      },
      "source": [
        "print(response.headers)"
      ],
      "execution_count": 19,
      "outputs": [
        {
          "output_type": "stream",
          "name": "stdout",
          "text": [
            "{'Content-Type': 'text/html; charset=UTF-8', 'Date': 'Fri, 15 Oct 2021 07:18:45 GMT', 'Server': 'RapidAPI-1.2.8', 'X-RapidAPI-Region': 'AWS - us-east-1', 'X-RapidAPI-Version': '1.2.8', 'Content-Length': '2061', 'Connection': 'keep-alive'}\n"
          ]
        }
      ]
    },
    {
      "cell_type": "code",
      "metadata": {
        "colab": {
          "base_uri": "https://localhost:8080/"
        },
        "id": "RPAUJ8BYZw3d",
        "outputId": "0a9b522e-2209-451b-d807-deacc65fbde8"
      },
      "source": [
        "print(response.status_code)"
      ],
      "execution_count": 20,
      "outputs": [
        {
          "output_type": "stream",
          "name": "stdout",
          "text": [
            "200\n"
          ]
        }
      ]
    },
    {
      "cell_type": "code",
      "metadata": {
        "colab": {
          "base_uri": "https://localhost:8080/"
        },
        "id": "MWUbbhR5aBPC",
        "outputId": "45616906-f1ea-4c75-bbd8-f5e1c49c2c23"
      },
      "source": [
        "import requests\n",
        "import re\n",
        "\n",
        "url = \"https://mashape-community-skate-ipsum.p.rapidapi.com/5/5/JSON\"\n",
        "\n",
        "headers = {\n",
        "    'x-rapidapi-host': \"mashape-community-skate-ipsum.p.rapidapi.com\",\n",
        "    'x-rapidapi-key': \"1a47c6b394mshefd28d37a58817dp1d781ajsnff98b25cd286\"\n",
        "    }\n",
        "\n",
        "response = requests.request(\"GET\", url, headers=headers)\n",
        "\n",
        "print(response.text)"
      ],
      "execution_count": 27,
      "outputs": [
        {
          "output_type": "stream",
          "name": "stdout",
          "text": [
            "[\"Trucks shinner Saran Wrap hip pump switch. Tail Supersonic Skate Camp crail grab goofy footed aerial nosegrind helipop. Tic-tac kickturn skater frigid air bail hardware. Sponsored bearings Independent sketchy skater bail rocket air. Nose slide fakie out griptape casper skate or die blunt Skull and Sword. No comply ollie street transition aerial Operation Ivy axle. Mini ramp hand rail nose acid drop hurricane skate or die. Invert New Deal disaster slappy poseur speed wobbles hang up. Fast plant crail slide varial slap maxwell Christ air spine. Dustin Dollin ledge finger flip 270 tail speed wobbles quarter pipe. Geoff Rowley Christ air trucks nose heel flip regular footed airwalk. Nose grab snake nosegrind aerial lip ollie. \",\"Rip grip slap maxwell invert hand rail. Quarter pipe rails nosepicker 720. Egg plant bigspin transition fastplant. Bluntslide slide coper freestyle. Rails Wade Speyer birdie frontside lien air. Santa Cruz slide tail slap maxwell pool. Bearings gnarly crailtap hang up. 360 front foot impossible alley oop slob air. Invert soul skate backside 50-50. Primo slide World Industries heel flip alley oop bearings. Lien air chicken wing rock and roll fakie out. Rails street trucks crail slide Ron Chapman. \",\"Ollie melancholy launch ramp fakie out slap maxwell switch. Carve regular footed Chet Thomas 900 pop shove-it blunt air. Egg plant kickflip death box rocket air grab crooked grind. Soul skate pivot 900 gnar bucket ollie kick-nose. Death box coper freestyle crail slide blunt tic-tac. Ledge late bearings darkslide 360 noseblunt slide. Crooked grind ollie hole nose-bump hard flip melancholy sketchy. Pogo speed wobbles Chris Buchinsky slam feeble manual flail. Airwalk bail stoked boned out coping crail grab. Nose slide Primo slide smith grind tailslide 720 shoveit. Gnarly Hard Corps nose grab pump sick bank locals. Steps backside 360 no comply cab flip launch ramp. \",\"Trucks ho-ho body varial backside cab flip varial Donger fast plant. Switch Primo slide launch ramp snake downhill rip grip kidney. Quarter pipe Jimmy'Z pressure flip casper downhill nose blunt backside crail slide. Yeah tailslide pressure flip bearings feeble 1080 boned out. Invert lipslide blunt face plant sketchy 270 kick-nose. Smith grind cab flip ho-ho grind airwalk melancholy locals Rector. Steps front foot impossible mongo stoked blunt frigid air crailtap. Nose-bump helipop stoked full-cab g-turn flail pogo. Rock and roll soul skate risers helipop pivot opposite footed egg plant. Transition hurricane griptape judo air shoveit 900 Japan air. Tailslide Wes Humpston poseur salad grind locals mini ramp fastplant hardware. \",\"Nosepicker kickflip regular footed lipslide impossible. Dylan Rieder baseplate rad half-flip spine bail. Cab flip Love Bowl face plant 360 frontside transition. Stoked kickflip Town & Country half-flip alley oop slappy. Darkslide egg plant ollie aerial front foot impossible. Slappy kidney mongo smith grind Wade Speyer impossible. Downhill ollie north fakie durometer chicken wing. Johnny Rad no comply tuna-flip lip ollie handplant. Rail flail 360 pivot axle set. Late axle tailslide cess slide powerslide. Lip Kevin Ancell flypaper casper slide full-cab opposite footed. \"]\n"
          ]
        }
      ]
    },
    {
      "cell_type": "code",
      "metadata": {
        "colab": {
          "base_uri": "https://localhost:8080/"
        },
        "id": "EnnyTLzqdGaN",
        "outputId": "a553f07c-bc27-40ea-986e-29ae6d953a68"
      },
      "source": [
        "# sky scanner\n",
        "\n",
        "import requests\n",
        "\n",
        "url = \"https://skyscanner-skyscanner-flight-search-v1.p.rapidapi.com/apiservices/browseroutes/v1.0/KR/USD/en-US/SFO-sky/ORD-sky/anytime\"\n",
        "\n",
        "querystring = {\"inboundpartialdate\":\"anytime\"}\n",
        "\n",
        "headers = {\n",
        "    'x-rapidapi-host': \"skyscanner-skyscanner-flight-search-v1.p.rapidapi.com\",\n",
        "    'x-rapidapi-key': \"1a47c6b394mshefd28d37a58817dp1d781ajsnff98b25cd286\"\n",
        "    }\n",
        "\n",
        "response = requests.request(\"GET\", url, headers=headers, params=querystring)\n",
        "\n",
        "print(response.text)"
      ],
      "execution_count": 22,
      "outputs": [
        {
          "output_type": "stream",
          "name": "stdout",
          "text": [
            "{\n",
            "  \"Quotes\" : [ {\n",
            "    \"QuoteId\" : 1,\n",
            "    \"MinPrice\" : 55,\n",
            "    \"Direct\" : false,\n",
            "    \"OutboundLeg\" : {\n",
            "      \"CarrierIds\" : [ 1065 ],\n",
            "      \"OriginId\" : 81727,\n",
            "      \"DestinationId\" : 73076,\n",
            "      \"DepartureDate\" : \"2021-12-07T00:00:00\"\n",
            "    },\n",
            "    \"QuoteDateTime\" : \"2021-10-13T12:18:00\"\n",
            "  }, {\n",
            "    \"QuoteId\" : 2,\n",
            "    \"MinPrice\" : 59,\n",
            "    \"Direct\" : false,\n",
            "    \"OutboundLeg\" : {\n",
            "      \"CarrierIds\" : [ 1065 ],\n",
            "      \"OriginId\" : 81727,\n",
            "      \"DestinationId\" : 73076,\n",
            "      \"DepartureDate\" : \"2021-10-26T00:00:00\"\n",
            "    },\n",
            "    \"QuoteDateTime\" : \"2021-10-15T06:34:00\"\n",
            "  }, {\n",
            "    \"QuoteId\" : 3,\n",
            "    \"MinPrice\" : 59,\n",
            "    \"Direct\" : false,\n",
            "    \"OutboundLeg\" : {\n",
            "      \"CarrierIds\" : [ 1065 ],\n",
            "      \"OriginId\" : 81727,\n",
            "      \"DestinationId\" : 73076,\n",
            "      \"DepartureDate\" : \"2021-11-06T00:00:00\"\n",
            "    },\n",
            "    \"QuoteDateTime\" : \"2021-10-15T02:31:00\"\n",
            "  }, {\n",
            "    \"QuoteId\" : 4,\n",
            "    \"MinPrice\" : 62,\n",
            "    \"Direct\" : true,\n",
            "    \"OutboundLeg\" : {\n",
            "      \"CarrierIds\" : [ 851 ],\n",
            "      \"OriginId\" : 81727,\n",
            "      \"DestinationId\" : 73076,\n",
            "      \"DepartureDate\" : \"2022-01-19T00:00:00\"\n",
            "    },\n",
            "    \"QuoteDateTime\" : \"2021-10-14T10:35:00\"\n",
            "  }, {\n",
            "    \"QuoteId\" : 5,\n",
            "    \"MinPrice\" : 65,\n",
            "    \"Direct\" : false,\n",
            "    \"OutboundLeg\" : {\n",
            "      \"CarrierIds\" : [ 1065 ],\n",
            "      \"OriginId\" : 81727,\n",
            "      \"DestinationId\" : 73076,\n",
            "      \"DepartureDate\" : \"2022-03-02T00:00:00\"\n",
            "    },\n",
            "    \"QuoteDateTime\" : \"2021-10-12T17:45:00\"\n",
            "  }, {\n",
            "    \"QuoteId\" : 6,\n",
            "    \"MinPrice\" : 70,\n",
            "    \"Direct\" : true,\n",
            "    \"OutboundLeg\" : {\n",
            "      \"CarrierIds\" : [ 851 ],\n",
            "      \"OriginId\" : 81727,\n",
            "      \"DestinationId\" : 73076,\n",
            "      \"DepartureDate\" : \"2021-12-08T00:00:00\"\n",
            "    },\n",
            "    \"QuoteDateTime\" : \"2021-10-12T13:15:00\"\n",
            "  }, {\n",
            "    \"QuoteId\" : 7,\n",
            "    \"MinPrice\" : 79,\n",
            "    \"Direct\" : true,\n",
            "    \"OutboundLeg\" : {\n",
            "      \"CarrierIds\" : [ 851 ],\n",
            "      \"OriginId\" : 81727,\n",
            "      \"DestinationId\" : 73076,\n",
            "      \"DepartureDate\" : \"2021-10-30T00:00:00\"\n",
            "    },\n",
            "    \"QuoteDateTime\" : \"2021-10-15T05:13:00\"\n",
            "  }, {\n",
            "    \"QuoteId\" : 8,\n",
            "    \"MinPrice\" : 79,\n",
            "    \"Direct\" : true,\n",
            "    \"OutboundLeg\" : {\n",
            "      \"CarrierIds\" : [ 851 ],\n",
            "      \"OriginId\" : 81727,\n",
            "      \"DestinationId\" : 73076,\n",
            "      \"DepartureDate\" : \"2021-11-03T00:00:00\"\n",
            "    },\n",
            "    \"QuoteDateTime\" : \"2021-10-15T00:22:00\"\n",
            "  }, {\n",
            "    \"QuoteId\" : 9,\n",
            "    \"MinPrice\" : 79,\n",
            "    \"Direct\" : true,\n",
            "    \"OutboundLeg\" : {\n",
            "      \"CarrierIds\" : [ 851 ],\n",
            "      \"OriginId\" : 81727,\n",
            "      \"DestinationId\" : 73076,\n",
            "      \"DepartureDate\" : \"2022-02-01T00:00:00\"\n",
            "    },\n",
            "    \"QuoteDateTime\" : \"2021-10-14T17:32:00\"\n",
            "  }, {\n",
            "    \"QuoteId\" : 10,\n",
            "    \"MinPrice\" : 80,\n",
            "    \"Direct\" : true,\n",
            "    \"OutboundLeg\" : {\n",
            "      \"CarrierIds\" : [ 851 ],\n",
            "      \"OriginId\" : 81727,\n",
            "      \"DestinationId\" : 73076,\n",
            "      \"DepartureDate\" : \"2022-03-08T00:00:00\"\n",
            "    },\n",
            "    \"QuoteDateTime\" : \"2021-10-13T19:56:00\"\n",
            "  }, {\n",
            "    \"QuoteId\" : 11,\n",
            "    \"MinPrice\" : 159,\n",
            "    \"Direct\" : true,\n",
            "    \"OutboundLeg\" : {\n",
            "      \"CarrierIds\" : [ 1793 ],\n",
            "      \"OriginId\" : 81727,\n",
            "      \"DestinationId\" : 73076,\n",
            "      \"DepartureDate\" : \"2022-05-30T00:00:00\"\n",
            "    },\n",
            "    \"QuoteDateTime\" : \"2021-10-13T19:14:00\"\n",
            "  }, {\n",
            "    \"QuoteId\" : 12,\n",
            "    \"MinPrice\" : 159,\n",
            "    \"Direct\" : true,\n",
            "    \"OutboundLeg\" : {\n",
            "      \"CarrierIds\" : [ 1793 ],\n",
            "      \"OriginId\" : 81727,\n",
            "      \"DestinationId\" : 73076,\n",
            "      \"DepartureDate\" : \"2022-09-10T00:00:00\"\n",
            "    },\n",
            "    \"QuoteDateTime\" : \"2021-10-13T17:36:00\"\n",
            "  }, {\n",
            "    \"QuoteId\" : 13,\n",
            "    \"MinPrice\" : 159,\n",
            "    \"Direct\" : true,\n",
            "    \"OutboundLeg\" : {\n",
            "      \"CarrierIds\" : [ 1793 ],\n",
            "      \"OriginId\" : 81727,\n",
            "      \"DestinationId\" : 73076,\n",
            "      \"DepartureDate\" : \"2022-04-08T00:00:00\"\n",
            "    },\n",
            "    \"QuoteDateTime\" : \"2021-10-14T17:26:00\"\n",
            "  }, {\n",
            "    \"QuoteId\" : 14,\n",
            "    \"MinPrice\" : 159,\n",
            "    \"Direct\" : true,\n",
            "    \"OutboundLeg\" : {\n",
            "      \"CarrierIds\" : [ 1793 ],\n",
            "      \"OriginId\" : 81727,\n",
            "      \"DestinationId\" : 73076,\n",
            "      \"DepartureDate\" : \"2022-07-07T00:00:00\"\n",
            "    },\n",
            "    \"QuoteDateTime\" : \"2021-10-13T18:02:00\"\n",
            "  }, {\n",
            "    \"QuoteId\" : 15,\n",
            "    \"MinPrice\" : 159,\n",
            "    \"Direct\" : true,\n",
            "    \"OutboundLeg\" : {\n",
            "      \"CarrierIds\" : [ 1793 ],\n",
            "      \"OriginId\" : 81727,\n",
            "      \"DestinationId\" : 73076,\n",
            "      \"DepartureDate\" : \"2022-06-01T00:00:00\"\n",
            "    },\n",
            "    \"QuoteDateTime\" : \"2021-10-12T16:06:00\"\n",
            "  }, {\n",
            "    \"QuoteId\" : 16,\n",
            "    \"MinPrice\" : 159,\n",
            "    \"Direct\" : true,\n",
            "    \"OutboundLeg\" : {\n",
            "      \"CarrierIds\" : [ 1793 ],\n",
            "      \"OriginId\" : 81727,\n",
            "      \"DestinationId\" : 73076,\n",
            "      \"DepartureDate\" : \"2022-08-02T00:00:00\"\n",
            "    },\n",
            "    \"QuoteDateTime\" : \"2021-10-11T16:49:00\"\n",
            "  }, {\n",
            "    \"QuoteId\" : 17,\n",
            "    \"MinPrice\" : 168,\n",
            "    \"Direct\" : false,\n",
            "    \"OutboundLeg\" : {\n",
            "      \"CarrierIds\" : [ 1793 ],\n",
            "      \"OriginId\" : 81727,\n",
            "      \"DestinationId\" : 73076,\n",
            "      \"DepartureDate\" : \"2022-06-03T00:00:00\"\n",
            "    },\n",
            "    \"QuoteDateTime\" : \"2021-10-14T16:34:00\"\n",
            "  }, {\n",
            "    \"QuoteId\" : 18,\n",
            "    \"MinPrice\" : 168,\n",
            "    \"Direct\" : false,\n",
            "    \"OutboundLeg\" : {\n",
            "      \"CarrierIds\" : [ 1793 ],\n",
            "      \"OriginId\" : 81727,\n",
            "      \"DestinationId\" : 73076,\n",
            "      \"DepartureDate\" : \"2022-07-08T00:00:00\"\n",
            "    },\n",
            "    \"QuoteDateTime\" : \"2021-10-14T16:34:00\"\n",
            "  }, {\n",
            "    \"QuoteId\" : 19,\n",
            "    \"MinPrice\" : 168,\n",
            "    \"Direct\" : false,\n",
            "    \"OutboundLeg\" : {\n",
            "      \"CarrierIds\" : [ 1793 ],\n",
            "      \"OriginId\" : 81727,\n",
            "      \"DestinationId\" : 73076,\n",
            "      \"DepartureDate\" : \"2022-08-12T00:00:00\"\n",
            "    },\n",
            "    \"QuoteDateTime\" : \"2021-10-14T16:37:00\"\n",
            "  }, {\n",
            "    \"QuoteId\" : 20,\n",
            "    \"MinPrice\" : 168,\n",
            "    \"Direct\" : false,\n",
            "    \"OutboundLeg\" : {\n",
            "      \"CarrierIds\" : [ 1793 ],\n",
            "      \"OriginId\" : 81727,\n",
            "      \"DestinationId\" : 73076,\n",
            "      \"DepartureDate\" : \"2022-05-03T00:00:00\"\n",
            "    },\n",
            "    \"QuoteDateTime\" : \"2021-10-11T16:50:00\"\n",
            "  } ],\n",
            "  \"Carriers\" : [ {\n",
            "    \"CarrierId\" : 1065,\n",
            "    \"Name\" : \"Frontier Airlines\"\n",
            "  }, {\n",
            "    \"CarrierId\" : 851,\n",
            "    \"Name\" : \"Alaska Airlines\"\n",
            "  }, {\n",
            "    \"CarrierId\" : 1793,\n",
            "    \"Name\" : \"United\"\n",
            "  } ],\n",
            "  \"Places\" : [ {\n",
            "    \"Name\" : \"Chicago O'Hare International\",\n",
            "    \"Type\" : \"Station\",\n",
            "    \"PlaceId\" : 73076,\n",
            "    \"IataCode\" : \"ORD\",\n",
            "    \"SkyscannerCode\" : \"ORD\",\n",
            "    \"CityName\" : \"Chicago\",\n",
            "    \"CityId\" : \"CHIA\",\n",
            "    \"CountryName\" : \"United States\"\n",
            "  }, {\n",
            "    \"Name\" : \"San Francisco International\",\n",
            "    \"Type\" : \"Station\",\n",
            "    \"PlaceId\" : 81727,\n",
            "    \"IataCode\" : \"SFO\",\n",
            "    \"SkyscannerCode\" : \"SFO\",\n",
            "    \"CityName\" : \"San Francisco\",\n",
            "    \"CityId\" : \"SFOA\",\n",
            "    \"CountryName\" : \"United States\"\n",
            "  } ],\n",
            "  \"Currencies\" : [ {\n",
            "    \"Code\" : \"USD\",\n",
            "    \"Symbol\" : \"$\",\n",
            "    \"ThousandsSeparator\" : \",\",\n",
            "    \"DecimalSeparator\" : \".\",\n",
            "    \"SymbolOnLeft\" : true,\n",
            "    \"SpaceBetweenAmountAndSymbol\" : false,\n",
            "    \"RoundingCoefficient\" : 0,\n",
            "    \"DecimalDigits\" : 2\n",
            "  } ],\n",
            "  \"Routes\" : [ {\n",
            "    \"Price\" : 55,\n",
            "    \"QuoteDateTime\" : \"2021-10-13T12:18:00\",\n",
            "    \"OriginId\" : 81727,\n",
            "    \"DestinationId\" : 73076,\n",
            "    \"QuoteIds\" : [ 1, 2, 3, 4, 5, 6, 7, 8, 9, 10, 11, 12, 13, 14, 15, 16, 17, 18, 19, 20 ]\n",
            "  } ]\n",
            "}\n"
          ]
        }
      ]
    },
    {
      "cell_type": "code",
      "metadata": {
        "id": "wUZ2nHw5cDON"
      },
      "source": [
        "# Open Weather Map\n",
        "\n",
        "cities = []\n",
        "weather_dict = {}\n",
        "\n",
        "def city_forecast(city):\n",
        "  url = \"https://community-open-weather-map.p.rapidapi.com/weather\"\n",
        "  querystring = {\"q\":city}\n",
        "  headers = {\n",
        "      'x-rapidapi-host': \"community-open-weather-map.p.rapidapi.com\",\n",
        "      'x-rapidapi-key': \"1a47c6b394mshefd28d37a58817dp1d781ajsnff98b25cd286\"\n",
        "      }\n",
        "\n",
        "  response = requests.request(\"GET\", url, headers=headers, params=querystring)\n",
        "  return response.json()\n"
      ],
      "execution_count": 23,
      "outputs": []
    },
    {
      "cell_type": "code",
      "metadata": {
        "id": "46GSzeAYeK9j"
      },
      "source": [
        "for city in cities:\n",
        "  weather_dict[city] = city_forecast(city)"
      ],
      "execution_count": 24,
      "outputs": []
    },
    {
      "cell_type": "code",
      "metadata": {
        "id": "B7aF8NlSkk5O"
      },
      "source": [
        "def get_day_weather(pred):\n",
        "  pattern =re.compile(\" [0-9]*:[0-9]*:[0-9]*\")\n",
        "  t = pattern.search(pred['dt_txt'])\n",
        "\n",
        "  hour = int(t[0].split(':')[0])\n",
        "  \n",
        "  if 10<=hour<=19:\n",
        "        return True\n",
        "\n",
        "  return False\n",
        "\n",
        "day_weather = {}\n",
        "\n",
        "for city in weather_dict.keys():\n",
        "  day_weather[city] = list(filter(get_day_weather, weather_dict[city]['list']))"
      ],
      "execution_count": 29,
      "outputs": []
    },
    {
      "cell_type": "code",
      "metadata": {
        "id": "dFbYw-HF0PMT"
      },
      "source": [
        "def travel_estimator(weather_stat):\n",
        "  estimation = {}\n",
        "\n",
        "  for city in weather_stat.keys():    \n",
        "        estimation[city] = {}\n",
        "        estimation[city]['clear_sky_count'] = 0\n",
        "        estimation[city]['av_temp'] = 0\n",
        "\n",
        "        for prediction in day_weather[city]:\n",
        "          estimation[city]['av_temp'] += prediction['main']['temp']\n",
        "          if prediction['weather'][0]['description'] in ['clear sky', 'few clouds']:\n",
        "            estimation[city]['clear_sky_count'] += 1          \n",
        "\n",
        "        estimation[city]['av_temp'] = round(estimation[city]['av_temp'] / len(day_weather[city]), 2)\n",
        "        # convert temperature to celsius\n",
        "        estimation[city]['av_temp_cels'] = round(estimation[city]['av_temp'] - 273.15, 2)\n",
        "\n",
        "  return estimation\n",
        "\n",
        "travel_rating = travel_estimator(day_weather)\n",
        "\n",
        "# sort cities by clear sky forecasts\n",
        "sorted_travel_rating = sorted(travel_rating.items() ,  key=lambda x: x[1]['av_temp_cels'] )\n",
        "\n",
        "\n",
        "for city in sorted_travel_rating:\n",
        "  print(city[0])\n",
        "  print('Clear sky forecasts:', city[1]['clear_sky_count'])  \n",
        "  print('Average temperature:', city[1]['av_temp_cels'], \"C\")\n",
        "  print('n')"
      ],
      "execution_count": 30,
      "outputs": []
    },
    {
      "cell_type": "code",
      "metadata": {
        "id": "8s9XPUD30QTH"
      },
      "source": [
        ""
      ],
      "execution_count": null,
      "outputs": []
    }
  ]
}