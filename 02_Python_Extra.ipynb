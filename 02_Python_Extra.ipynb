{
  "nbformat": 4,
  "nbformat_minor": 2,
  "metadata": {
    "colab": {
      "name": "01.Python_Extra.ipynb",
      "provenance": [],
      "collapsed_sections": []
    },
    "kernelspec": {
      "name": "python3",
      "display_name": "Python 3"
    },
    "language_info": {
      "name": "python"
    }
  },
  "cells": [
    {
      "cell_type": "markdown",
      "source": [
        "# First-Class Citizen\r\n",
        "- 다른 변수에 대입 가능, 인수 전달 가능\r\n",
        "- Local Function: 함수 내부의 반복되는 코드를 통합"
      ],
      "metadata": {
        "id": "Hknm_qR9-CtT"
      }
    },
    {
      "cell_type": "code",
      "execution_count": 1,
      "source": [
        "def add(a,b):\r\n",
        "    print(a+b)\r\n",
        "plus = add\r\n",
        "plus(1,2)"
      ],
      "outputs": [
        {
          "output_type": "stream",
          "name": "stdout",
          "text": [
            "3\n"
          ]
        }
      ],
      "metadata": {
        "colab": {
          "base_uri": "https://localhost:8080/"
        },
        "id": "WUL1DKXn92XI",
        "outputId": "2beb0db4-dfbb-40ae-be4f-ad68697ff7a1"
      }
    },
    {
      "cell_type": "code",
      "execution_count": 3,
      "source": [
        "def para(func):\r\n",
        "    def wrapper():\r\n",
        "        return str(func())\r\n",
        "    return wrapper\r\n",
        "\r\n",
        "@para\r\n",
        "def outname():\r\n",
        "    return 'James Bond'\r\n",
        "\r\n",
        "@para\r\n",
        "def outage():\r\n",
        "    return '29'\r\n",
        "\r\n",
        "print(outname())\r\n",
        "print(outage())\r\n"
      ],
      "outputs": [
        {
          "output_type": "stream",
          "name": "stdout",
          "text": [
            "James Bond\n",
            "29\n"
          ]
        }
      ],
      "metadata": {
        "colab": {
          "base_uri": "https://localhost:8080/"
        },
        "id": "AAYNb5FSCYh1",
        "outputId": "fa739ca6-c9fd-45bb-f8c4-1622c04116b3"
      }
    },
    {
      "cell_type": "code",
      "execution_count": 6,
      "source": [
        "def para(func):\r\n",
        "    def wrap(*args, **kwargs):\r\n",
        "        return str(func(*args, **kwargs))\r\n",
        "    return wrap\r\n",
        "\r\n",
        "@para\r\n",
        "def outname(name):\r\n",
        "    return 'Name: ' + name\r\n",
        "\r\n",
        "@para\r\n",
        "def outage(age):\r\n",
        "    return 'Age: ' + str(age)\r\n",
        "\r\n",
        "print(outname('James Bond'))\r\n",
        "print(outname.__name__)\r\n",
        "print(outage(29))\r\n",
        "print(outage.__name__)"
      ],
      "outputs": [
        {
          "output_type": "stream",
          "name": "stdout",
          "text": [
            "Name: James Bond\n",
            "wrap\n",
            "Age: 29\n",
            "wrap\n"
          ]
        }
      ],
      "metadata": {
        "colab": {
          "base_uri": "https://localhost:8080/"
        },
        "id": "35PEsPTw-MKH",
        "outputId": "84cef324-e8ba-41cf-ce68-bd4128f8224a"
      }
    },
    {
      "cell_type": "markdown",
      "source": [
        "- outname함수의 __name__속성이 wrapper로 출력됨\n",
        "- @wraps 데코레이터 --> 데코레이터 간 중첩시 문제를 해결"
      ],
      "metadata": {
        "id": "Uz8DC_zTIcjR"
      }
    },
    {
      "cell_type": "code",
      "execution_count": 7,
      "source": [
        "from functools import wraps\r\n",
        "\r\n",
        "def para(func):\r\n",
        "    @wraps(func)\r\n",
        "    def wrap(*args, **kwargs):\r\n",
        "        return str(func(*args, **kwargs))\r\n",
        "    return wrap\r\n",
        "\r\n",
        "@para\r\n",
        "def outname(name):\r\n",
        "    return 'Name: ' + name\r\n",
        "\r\n",
        "@para\r\n",
        "def outage(age):\r\n",
        "    return 'Age: ' + str(age)\r\n",
        "\r\n",
        "print(outname('James Bond'))\r\n",
        "print(outname.__name__)\r\n",
        "print(outage(29))\r\n",
        "print(outage.__name__)"
      ],
      "outputs": [
        {
          "output_type": "stream",
          "name": "stdout",
          "text": [
            "Name: James Bond\n",
            "outname\n",
            "Age: 29\n",
            "outage\n"
          ]
        }
      ],
      "metadata": {
        "colab": {
          "base_uri": "https://localhost:8080/"
        },
        "id": "n0U6HMrkGz1c",
        "outputId": "916e0882-7957-4728-b4aa-873988de62e9"
      }
    },
    {
      "cell_type": "code",
      "execution_count": 8,
      "source": [
        "from functools import wraps\r\n",
        "\r\n",
        "def para(func):\r\n",
        "    @wraps(func)\r\n",
        "    def wrap(*args, **kwargs):\r\n",
        "        return str(func(*args, **kwargs))\r\n",
        "    return wrap\r\n",
        "\r\n",
        "@para\r\n",
        "def outname(name):\r\n",
        "    return 'Name: ' + name\r\n",
        "\r\n",
        "@para\r\n",
        "def outage(age):\r\n",
        "    return 'Age: ' + str(age)\r\n",
        "\r\n",
        "\r\n",
        "print(outname.__name__)\r\n",
        "print(outage.__name__)"
      ],
      "outputs": [
        {
          "output_type": "stream",
          "name": "stdout",
          "text": [
            "outname\n",
            "outage\n"
          ]
        }
      ],
      "metadata": {
        "colab": {
          "base_uri": "https://localhost:8080/"
        },
        "id": "n61Ymf8lIPI7",
        "outputId": "df9cee29-d924-43d5-dd44-6aadc4be1ce9"
      }
    },
    {
      "cell_type": "code",
      "execution_count": null,
      "source": [],
      "outputs": [],
      "metadata": {
        "id": "hx1hTjwmUBwd"
      }
    }
  ]
}